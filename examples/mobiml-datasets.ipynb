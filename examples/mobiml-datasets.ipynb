{
 "cells": [
  {
   "cell_type": "markdown",
   "metadata": {},
   "source": [
    "# MobiML Datasets Demo"
   ]
  },
  {
   "cell_type": "code",
   "execution_count": null,
   "metadata": {
    "slideshow": {
     "slide_type": "slide"
    }
   },
   "outputs": [],
   "source": [
    "import holoviews as hv\n",
    "from hvplot import pandas\n",
    "from holoviews import opts\n",
    "from holoviews.element import tiles\n",
    "\n",
    "import sys\n",
    "sys.path.append(\"..\")\n",
    "import mobiml\n",
    "from mobiml.datasets import BrestAIS, CopenhagenCyclists, MovebankGulls, PortoTaxis\n",
    "\n",
    "\n",
    "opts.defaults(opts.Overlay(active_tools=['wheel_zoom']))\n",
    "BG_TILES = tiles.CartoLight()"
   ]
  },
  {
   "cell_type": "code",
   "execution_count": null,
   "metadata": {},
   "outputs": [],
   "source": [
    "from bokeh.io import output_notebook\n",
    "\n",
    "output_notebook()"
   ]
  },
  {
   "attachments": {},
   "cell_type": "markdown",
   "metadata": {
    "slideshow": {
     "slide_type": "slide"
    }
   },
   "source": [
    "## Brest Vessels AIS"
   ]
  },
  {
   "cell_type": "code",
   "execution_count": null,
   "metadata": {},
   "outputs": [],
   "source": [
    "ais = BrestAIS(r\"/mnt/c/Users/GraserA/Documents/Zenodo/Integrated Maritime/nari_dynamic.csv\")\n",
    "ais.df.head()"
   ]
  },
  {
   "cell_type": "code",
   "execution_count": null,
   "metadata": {},
   "outputs": [],
   "source": [
    "ais.datashade(width=900, height=500)"
   ]
  },
  {
   "cell_type": "code",
   "execution_count": null,
   "metadata": {},
   "outputs": [],
   "source": [
    "ais.df = ais.df[ais.df.mover_id.isin([245257000])]\n",
    "ais.df"
   ]
  },
  {
   "cell_type": "code",
   "execution_count": null,
   "metadata": {},
   "outputs": [],
   "source": [
    "from mobiml.transforms import AISTripExtractor\n",
    "ex = AISTripExtractor(ais.to_gdf())\n",
    "ais_trips = ex.get_trips()"
   ]
  },
  {
   "attachments": {},
   "cell_type": "markdown",
   "metadata": {},
   "source": []
  },
  {
   "cell_type": "code",
   "execution_count": null,
   "metadata": {},
   "outputs": [],
   "source": [
    "ais_trips.hvplot(title=\"Brest Vessels AIS\", width=900, height=500, tiles=\"CartoLight\")"
   ]
  },
  {
   "attachments": {},
   "cell_type": "markdown",
   "metadata": {
    "slideshow": {
     "slide_type": "slide"
    }
   },
   "source": [
    "## Copenhagen Cyclists Desirelines "
   ]
  },
  {
   "cell_type": "code",
   "execution_count": null,
   "metadata": {},
   "outputs": [],
   "source": [
    "cy = CopenhagenCyclists(r\"F:\\Documents\\GitHub\\SimonBreum\\desirelines\\data\\interim\\df_bike.pickle\")\n",
    "cy.df.head()"
   ]
  },
  {
   "cell_type": "code",
   "execution_count": null,
   "metadata": {},
   "outputs": [],
   "source": [
    "bg_img = hv.RGB.load_image(r'F:\\Documents\\GitHub\\SimonBreum\\desirelines\\img\\intersection2.png', bounds=(0,0,640,360)) \n",
    "bg_img * cy.datashade(width=900, height=500)"
   ]
  },
  {
   "attachments": {},
   "cell_type": "markdown",
   "metadata": {
    "slideshow": {
     "slide_type": "slide"
    }
   },
   "source": [
    "## Movebank Migrating Gulls"
   ]
  },
  {
   "cell_type": "code",
   "execution_count": null,
   "metadata": {},
   "outputs": [],
   "source": [
    "gulls = MovebankGulls(r\"/mnt/c/Users/GraserA/Documents/GitHub/movingpandas-examples/data/gulls.gpkg\")#, rows=100)\n",
    "gulls.df.head() "
   ]
  },
  {
   "cell_type": "code",
   "execution_count": null,
   "metadata": {
    "slideshow": {
     "slide_type": "slide"
    }
   },
   "outputs": [],
   "source": [
    "gulls.plot(title=\"Movebank Migrating Gulls\", alpha=0.1)\n"
   ]
  },
  {
   "cell_type": "code",
   "execution_count": null,
   "metadata": {
    "slideshow": {
     "slide_type": "slide"
    }
   },
   "outputs": [],
   "source": [
    "gulls.hvplot(title=\"Movebank Migrating Gulls\", alpha=0.1, width=700, height=400)"
   ]
  },
  {
   "cell_type": "code",
   "execution_count": null,
   "metadata": {
    "slideshow": {
     "slide_type": "slide"
    }
   },
   "outputs": [],
   "source": [
    "gulls.datashade(title=\"Movebank Migrating Gulls\", width=700, height=400)"
   ]
  },
  {
   "attachments": {},
   "cell_type": "markdown",
   "metadata": {
    "slideshow": {
     "slide_type": "slide"
    }
   },
   "source": [
    "## Porto Taxi FCD"
   ]
  },
  {
   "cell_type": "code",
   "execution_count": null,
   "metadata": {},
   "outputs": [],
   "source": [
    "taxis = PortoTaxis(r\"H:\\Geodata\\Kaggle\\PortoTaxis\\train.csv\", nrows=10000)\n",
    "taxis.df.head()"
   ]
  },
  {
   "cell_type": "code",
   "execution_count": null,
   "metadata": {},
   "outputs": [],
   "source": [
    "taxis.datashade(width=900, height=500)"
   ]
  }
 ],
 "metadata": {
  "kernelspec": {
   "display_name": "movingml",
   "language": "python",
   "name": "python3"
  },
  "language_info": {
   "codemirror_mode": {
    "name": "ipython",
    "version": 3
   },
   "file_extension": ".py",
   "mimetype": "text/x-python",
   "name": "python",
   "nbconvert_exporter": "python",
   "pygments_lexer": "ipython3",
   "version": "3.10.9"
  },
  "orig_nbformat": 4
 },
 "nbformat": 4,
 "nbformat_minor": 2
}
