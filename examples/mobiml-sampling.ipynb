{
 "cells": [
  {
   "cell_type": "markdown",
   "metadata": {},
   "source": [
    "# MobiML Sampling Demo"
   ]
  },
  {
   "cell_type": "markdown",
   "metadata": {},
   "source": [
    "Randomly sample trajectories in a region of interest. Based on https://github.com/microsoft/torchgeo and https://james-brennan.github.io/posts/fast_gridding_geopandas/"
   ]
  },
  {
   "cell_type": "code",
   "execution_count": 24,
   "metadata": {},
   "outputs": [],
   "source": [
    "import numpy as np\n",
    "import geopandas as gpd\n",
    "import shapely\n",
    "import folium\n",
    "\n",
    "import sys\n",
    "\n",
    "sys.path.append(\"..\")\n",
    "from mobiml.datasets import AISDK"
   ]
  },
  {
   "cell_type": "code",
   "execution_count": null,
   "metadata": {},
   "outputs": [],
   "source": [
    "data = AISDK(r\"../examples/data/aisdk_20180208_sample.zip\")\n",
    "data.df.head()"
   ]
  },
  {
   "cell_type": "code",
   "execution_count": 3,
   "metadata": {},
   "outputs": [],
   "source": [
    "trajs = data.to_trajs()"
   ]
  },
  {
   "cell_type": "code",
   "execution_count": 4,
   "metadata": {},
   "outputs": [],
   "source": [
    "start = trajs.get_start_locations()"
   ]
  },
  {
   "cell_type": "code",
   "execution_count": 5,
   "metadata": {},
   "outputs": [],
   "source": [
    "start = start.set_crs(\"EPSG:4326\", inplace=True)"
   ]
  },
  {
   "cell_type": "markdown",
   "metadata": {},
   "source": [
    "#### Set bounding box"
   ]
  },
  {
   "cell_type": "code",
   "execution_count": null,
   "metadata": {},
   "outputs": [],
   "source": [
    "xmin, ymin, xmax, ymax = start.total_bounds\n",
    "print(xmin, ymin, xmax, ymax)"
   ]
  },
  {
   "cell_type": "markdown",
   "metadata": {},
   "source": [
    "Buffer bounding box by 0.01&deg;, which is about 1 km"
   ]
  },
  {
   "cell_type": "code",
   "execution_count": 7,
   "metadata": {},
   "outputs": [],
   "source": [
    "xmin = xmin - 0.01\n",
    "ymin = ymin - 0.01\n",
    "xmax = xmax + 0.01\n",
    "ymax = ymax + 0.01"
   ]
  },
  {
   "cell_type": "code",
   "execution_count": null,
   "metadata": {},
   "outputs": [],
   "source": [
    "print(\"Buffered bounding box:\", xmin, ymin, xmax, ymax)"
   ]
  },
  {
   "cell_type": "markdown",
   "metadata": {},
   "source": [
    "#### Calculate number of grid cells"
   ]
  },
  {
   "cell_type": "code",
   "execution_count": 9,
   "metadata": {},
   "outputs": [],
   "source": [
    "n_cells = 2  # you can specify different values for width and height\n",
    "\n",
    "\n",
    "def stride(value):\n",
    "    if isinstance(value, tuple):\n",
    "        cell_size_x = (xmax - xmin) / value[0]\n",
    "        cell_size_y = (ymax - ymin) / value[1]\n",
    "    elif isinstance(value, int):\n",
    "        cell_size_x = (xmax - xmin) / value\n",
    "        cell_size_y = (ymax - ymin) / value\n",
    "    elif isinstance(value, float):\n",
    "        cell_size_x = (xmax - xmin) / value\n",
    "        cell_size_y = (ymax - ymin) / value\n",
    "    else:\n",
    "        print(\"Please provide a tuple, int or float.\")\n",
    "    return cell_size_x, cell_size_y\n",
    "\n",
    "\n",
    "cell_size_x, cell_size_y = stride(n_cells)"
   ]
  },
  {
   "cell_type": "code",
   "execution_count": 10,
   "metadata": {},
   "outputs": [],
   "source": [
    "grid_cells = []\n",
    "for x0 in np.arange(xmin, xmax, cell_size_x):\n",
    "    for y0 in np.arange(ymin, ymax, cell_size_y):\n",
    "        x1 = x0 + cell_size_x\n",
    "        y1 = y0 + cell_size_y\n",
    "        grid_cells.append(shapely.geometry.box(x0, y0, x1, y1))"
   ]
  },
  {
   "cell_type": "code",
   "execution_count": 11,
   "metadata": {},
   "outputs": [],
   "source": [
    "cell = gpd.GeoDataFrame(grid_cells, columns=[\"geometry\"], crs=\"EPSG:4326\")"
   ]
  },
  {
   "cell_type": "code",
   "execution_count": 12,
   "metadata": {},
   "outputs": [],
   "source": [
    "cell[\"cell\"] = cell.index"
   ]
  },
  {
   "cell_type": "code",
   "execution_count": null,
   "metadata": {},
   "outputs": [],
   "source": [
    "m = cell.explore()\n",
    "\n",
    "start.explore(\n",
    "    m=m,\n",
    "    column=\"traj_id\",\n",
    "    legend=False,\n",
    ")\n",
    "\n",
    "folium.TileLayer(\"CartoDB positron\").add_to(m)\n",
    "folium.LayerControl().add_to(m)\n",
    "\n",
    "m"
   ]
  },
  {
   "cell_type": "markdown",
   "metadata": {},
   "source": [
    "#### Determine dataset sample"
   ]
  },
  {
   "cell_type": "code",
   "execution_count": 14,
   "metadata": {},
   "outputs": [],
   "source": [
    "merged = gpd.sjoin(start, cell, how=\"left\", predicate=\"within\")"
   ]
  },
  {
   "cell_type": "code",
   "execution_count": 15,
   "metadata": {},
   "outputs": [],
   "source": [
    "merged = merged.drop(columns=\"index_right\")"
   ]
  },
  {
   "cell_type": "code",
   "execution_count": null,
   "metadata": {},
   "outputs": [],
   "source": [
    "print(\"Points per cell:\\n\", merged.cell.value_counts())"
   ]
  },
  {
   "cell_type": "code",
   "execution_count": 17,
   "metadata": {},
   "outputs": [],
   "source": [
    "n_sample = 0.1  # specify how many samples you would like from each cell either as a percentage in decimals or as an absolute value\n",
    "\n",
    "\n",
    "def calc_sample_size(n_sample):\n",
    "    if n_sample < 1:\n",
    "        n_sample = int(n_sample * len(merged))\n",
    "        return n_sample\n",
    "    else:\n",
    "        n_sample = int(n_sample)\n",
    "        return n_sample\n",
    "\n",
    "\n",
    "n_sample = calc_sample_size(n_sample)"
   ]
  },
  {
   "cell_type": "code",
   "execution_count": 18,
   "metadata": {},
   "outputs": [],
   "source": [
    "def get_cell_sample(n_sample):\n",
    "    if n_sample > merged.cell.value_counts().min():\n",
    "        print(\n",
    "            \"Your cell sample of\",\n",
    "            n_sample,\n",
    "            \"cannot be greater than the minimum number of points in a cell:\",\n",
    "            merged.cell.value_counts().min(),\n",
    "        )\n",
    "        print(\"Setting the cell sample to:\", merged.cell.value_counts().min())\n",
    "        n_sample = merged.cell.value_counts().min()\n",
    "    df_sample = merged.groupby(\"cell\").sample(n=n_sample)\n",
    "    df_sample[\"split\"] = 2\n",
    "    df_sample = df_sample[[\"traj_id\", \"split\"]]\n",
    "    combined = merged.merge(df_sample, how=\"left\")\n",
    "    combined.loc[combined[\"split\"] != 2, \"split\"] = 1\n",
    "    return combined\n",
    "\n",
    "\n",
    "combined = get_cell_sample(n_sample)"
   ]
  },
  {
   "cell_type": "code",
   "execution_count": null,
   "metadata": {},
   "outputs": [],
   "source": [
    "def keep_sample():\n",
    "    df_sample = combined.loc[combined[\"split\"] == 2]\n",
    "    df_sample = df_sample.drop(columns=\"split\")\n",
    "    print(\"Your sample contains\", len(df_sample), \"records.\")\n",
    "    return df_sample\n",
    "\n",
    "\n",
    "df_sample = keep_sample()"
   ]
  },
  {
   "cell_type": "code",
   "execution_count": null,
   "metadata": {},
   "outputs": [],
   "source": [
    "m = cell.explore()\n",
    "\n",
    "start.explore(\n",
    "    m=m,\n",
    "    color=\"blue\",\n",
    "    legend=False,\n",
    ")\n",
    "\n",
    "df_sample.explore(\n",
    "    m=m,\n",
    "    color=\"red\",\n",
    "    legend=False,\n",
    ")\n",
    "\n",
    "folium.TileLayer(\"CartoDB positron\").add_to(m)\n",
    "folium.LayerControl().add_to(m)\n",
    "\n",
    "m"
   ]
  },
  {
   "cell_type": "markdown",
   "metadata": {},
   "source": [
    "## Dataset sampling with RandomTrajSampler"
   ]
  },
  {
   "cell_type": "code",
   "execution_count": null,
   "metadata": {},
   "outputs": [],
   "source": [
    "from mobiml.transforms.dataset_sampler import RandomTrajSampler\n",
    "\n",
    "data = AISDK(r\"../examples/data/aisdk_20180208_sample.zip\")\n",
    "data.df.head()"
   ]
  },
  {
   "cell_type": "code",
   "execution_count": null,
   "metadata": {},
   "outputs": [],
   "source": [
    "random_sample = RandomTrajSampler(data).random_sample(2, 20)\n",
    "random_sample.df.head()"
   ]
  },
  {
   "cell_type": "code",
   "execution_count": null,
   "metadata": {},
   "outputs": [],
   "source": [
    "sample_data = RandomTrajSampler(data).get_sample_data((2, 1), 10)\n",
    "sample_data.df.head()"
   ]
  }
 ],
 "metadata": {
  "kernelspec": {
   "display_name": "movingml",
   "language": "python",
   "name": "python3"
  },
  "language_info": {
   "codemirror_mode": {
    "name": "ipython",
    "version": 3
   },
   "file_extension": ".py",
   "mimetype": "text/x-python",
   "name": "python",
   "nbconvert_exporter": "python",
   "pygments_lexer": "ipython3",
   "version": "3.10.14"
  }
 },
 "nbformat": 4,
 "nbformat_minor": 2
}
