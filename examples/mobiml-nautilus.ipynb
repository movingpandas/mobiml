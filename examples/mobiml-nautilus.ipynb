{
 "cells": [
  {
   "cell_type": "markdown",
   "metadata": {},
   "source": [
    "# MobiML Nautilus Demo\n",
    "\n",
    "Based on https://github.com/DataStories-UniPi/Nautilus\n",
    "\n",
    "As presented in Andreas Tritsarolis, Nikos Pelekis, Konstantina Bereta, Dimitris Zissis, and Yannis Theodoridis. 2024. On Vessel Location Forecasting and the Effect of Federated Learning. In Proceedings of the 25th Conference on Mobile Data Management (MDM).\n",
    "\n",
    "Using data from \n",
    "\n",
    "* Brest https://zenodo.org/record/1167595/files/%5BP1%5D%20AIS%20Data.zip?download=1\n",
    "* Piraeus https://doi.org/10.5281/zenodo.6323416"
   ]
  },
  {
   "cell_type": "markdown",
   "metadata": {},
   "source": [
    "## Environment"
   ]
  },
  {
   "cell_type": "markdown",
   "metadata": {},
   "source": [
    "This notebook has last been tested with the following environment: \n",
    "\n",
    "```(nautilus2) grasera@N3DSS2206:~$ conda list\n",
    "# packages in environment at /home/grasera/anaconda3/envs/nautilus2:\n",
    "#\n",
    "# Name                    Version                   Build  Channel\n",
    "_libgcc_mutex             0.1                 conda_forge    conda-forge\n",
    "_openmp_mutex             4.5                       2_gnu    conda-forge\n",
    "affine                    2.4.0              pyhd8ed1ab_0    conda-forge\n",
    "alsa-lib                  1.2.11               hd590300_1    conda-forge\n",
    "asttokens                 2.4.1              pyhd8ed1ab_0    conda-forge\n",
    "attr                      2.5.1                h166bdaf_1    conda-forge\n",
    "attrs                     23.2.0             pyh71513ae_0    conda-forge\n",
    "aws-c-auth                0.7.18               he0b1f16_0    conda-forge\n",
    "aws-c-cal                 0.6.11               heb1d5e4_0    conda-forge\n",
    "aws-c-common              0.9.15               hd590300_0    conda-forge\n",
    "aws-c-compression         0.2.18               hce8ee76_3    conda-forge\n",
    "aws-c-event-stream        0.4.2                h01f5eca_8    conda-forge\n",
    "aws-c-http                0.8.1               hdb68c23_10    conda-forge\n",
    "aws-c-io                  0.14.7               hbfbeace_6    conda-forge\n",
    "aws-c-mqtt                0.10.4               h50844eb_0    conda-forge\n",
    "aws-c-s3                  0.5.7                h6be9164_2    conda-forge\n",
    "aws-c-sdkutils            0.1.15               hce8ee76_3    conda-forge\n",
    "aws-checksums             0.1.18               hce8ee76_3    conda-forge\n",
    "aws-crt-cpp               0.26.8               h2150271_2    conda-forge\n",
    "aws-sdk-cpp               1.11.267             hddb5a97_7    conda-forge\n",
    "azure-core-cpp            1.11.1               h91d86a7_1    conda-forge\n",
    "azure-identity-cpp        1.6.0                hf1915f5_1    conda-forge\n",
    "azure-storage-blobs-cpp   12.10.0              h00ab1b0_1    conda-forge\n",
    "azure-storage-common-cpp  12.5.0               h94269e2_4    conda-forge\n",
    "black                     24.4.2          py310hff52083_0    conda-forge\n",
    "bleach                    6.1.0              pyhd8ed1ab_0    conda-forge\n",
    "blosc                     1.21.5               hc2324a3_1    conda-forge\n",
    "bokeh                     3.2.2              pyhd8ed1ab_0    conda-forge\n",
    "branca                    0.7.2              pyhd8ed1ab_0    conda-forge\n",
    "brotli                    1.1.0                hd590300_1    conda-forge\n",
    "brotli-bin                1.1.0                hd590300_1    conda-forge\n",
    "brotli-python             1.1.0           py310hc6cd4ac_1    conda-forge\n",
    "bzip2                     1.0.8                hd590300_5    conda-forge\n",
    "c-ares                    1.28.1               hd590300_0    conda-forge\n",
    "ca-certificates           2024.3.11            h06a4308_0\n",
    "cairo                     1.18.0               h3faef2a_0    conda-forge\n",
    "cartopy                   0.23.0          py310hcc13569_0    conda-forge\n",
    "certifi                   2024.2.2           pyhd8ed1ab_0    conda-forge\n",
    "cffi                      1.16.0          py310h2fee648_0    conda-forge\n",
    "cfgv                      3.3.1              pyhd8ed1ab_0    conda-forge\n",
    "cfitsio                   4.4.0                hbdc6101_1    conda-forge\n",
    "cftime                    1.6.3           py310h1f7b6fc_0    conda-forge\n",
    "charset-normalizer        3.3.2              pyhd8ed1ab_0    conda-forge\n",
    "click                     8.1.7           unix_pyh707e725_0    conda-forge\n",
    "click-plugins             1.1.1                      py_0    conda-forge\n",
    "cligj                     0.7.2              pyhd8ed1ab_1    conda-forge\n",
    "cloudpickle               3.0.0              pyhd8ed1ab_0    conda-forge\n",
    "codecov                   2.1.13             pyhd8ed1ab_0    conda-forge\n",
    "colorama                  0.4.6              pyhd8ed1ab_0    conda-forge\n",
    "colorcet                  3.1.0              pyhd8ed1ab_0    conda-forge\n",
    "comm                      0.2.2              pyhd8ed1ab_0    conda-forge\n",
    "contourpy                 1.2.1           py310hd41b1e2_0    conda-forge\n",
    "coverage                  7.5.1           py310hc51659f_0    conda-forge\n",
    "cryptography              42.0.7                   pypi_0    pypi\n",
    "cycler                    0.12.1             pyhd8ed1ab_0    conda-forge\n",
    "cython                    3.0.10          py310hc6cd4ac_0    conda-forge\n",
    "cytoolz                   0.12.2          py310h5eee18b_0\n",
    "dask                      2.10.1                     py_0\n",
    "dask-core                 2.10.1                     py_0\n",
    "datashader                0.16.1             pyhd8ed1ab_0    conda-forge\n",
    "dbus                      1.13.6               h5008d03_3    conda-forge\n",
    "debugpy                   1.8.1           py310hc6cd4ac_0    conda-forge\n",
    "decorator                 5.1.1              pyhd8ed1ab_0    conda-forge\n",
    "distlib                   0.3.8              pyhd8ed1ab_0    conda-forge\n",
    "distributed               2.10.0                     py_0\n",
    "exceptiongroup            1.2.0              pyhd8ed1ab_2    conda-forge\n",
    "executing                 2.0.1              pyhd8ed1ab_0    conda-forge\n",
    "expat                     2.6.2                h59595ed_0    conda-forge\n",
    "filelock                  3.14.0             pyhd8ed1ab_0    conda-forge\n",
    "fiona                     1.9.6           py310h0a1e91f_0    conda-forge\n",
    "flake8                    7.0.0              pyhd8ed1ab_0    conda-forge\n",
    "flwr                      1.8.0                    pypi_0    pypi\n",
    "fmt                       10.2.1               h00ab1b0_0    conda-forge\n",
    "folium                    0.16.0             pyhd8ed1ab_0    conda-forge\n",
    "font-ttf-dejavu-sans-mono 2.37                 hab24e00_0    conda-forge\n",
    "font-ttf-inconsolata      3.000                h77eed37_0    conda-forge\n",
    "font-ttf-source-code-pro  2.038                h77eed37_0    conda-forge\n",
    "font-ttf-ubuntu           0.83                 h77eed37_2    conda-forge\n",
    "fontconfig                2.14.2               h14ed4e7_0    conda-forge\n",
    "fonts-conda-ecosystem     1                             0    conda-forge\n",
    "fonts-conda-forge         1                             0    conda-forge\n",
    "fonttools                 4.51.0          py310h2372a71_0    conda-forge\n",
    "freetype                  2.12.1               h267a509_2    conda-forge\n",
    "freexl                    2.0.0                h743c826_0    conda-forge\n",
    "fsspec                    2024.3.1           pyhca7485f_0    conda-forge\n",
    "gdal                      3.8.5           py310h3b926b6_2    conda-forge\n",
    "geographiclib             2.0                pyhd8ed1ab_0    conda-forge\n",
    "geopandas                 0.14.4             pyhd8ed1ab_0    conda-forge\n",
    "geopandas-base            0.14.4             pyha770c72_0    conda-forge\n",
    "geopy                     2.4.1              pyhd8ed1ab_1    conda-forge\n",
    "geos                      3.12.1               h59595ed_0    conda-forge\n",
    "geotiff                   1.7.1               h6cf1f90_16    conda-forge\n",
    "geoviews                  1.11.1             pyhd8ed1ab_0    conda-forge\n",
    "geoviews-core             1.11.1             pyha770c72_0    conda-forge\n",
    "gettext                   0.22.5               h59595ed_2    conda-forge\n",
    "gettext-tools             0.22.5               h59595ed_2    conda-forge\n",
    "giflib                    5.2.2                hd590300_0    conda-forge\n",
    "glib                      2.80.0               hf2295e7_6    conda-forge\n",
    "glib-tools                2.80.0               hde27a5a_6    conda-forge\n",
    "graphite2                 1.3.13            h59595ed_1003    conda-forge\n",
    "grpcio                    1.63.0                   pypi_0    pypi\n",
    "gst-plugins-base          1.24.3               h9ad1361_0    conda-forge\n",
    "gstreamer                 1.24.3               haf2f30d_0    conda-forge\n",
    "harfbuzz                  8.4.0                h3d44ed6_0    conda-forge\n",
    "hdf4                      4.2.15               h2a13503_7    conda-forge\n",
    "hdf5                      1.14.3          nompi_h4f84152_101    conda-forge\n",
    "heapdict                  1.0.1              pyhd3eb1b0_0\n",
    "holoviews                 1.18.3             pyhd8ed1ab_0    conda-forge\n",
    "hvplot                    0.8.3              pyhd8ed1ab_0    conda-forge\n",
    "icu                       73.2                 h59595ed_0    conda-forge\n",
    "identify                  2.5.36             pyhd8ed1ab_0    conda-forge\n",
    "idna                      3.7                pyhd8ed1ab_0    conda-forge\n",
    "importlib-metadata        7.1.0              pyha770c72_0    conda-forge\n",
    "importlib_metadata        7.1.0                hd8ed1ab_0    conda-forge\n",
    "iniconfig                 2.0.0              pyhd8ed1ab_0    conda-forge\n",
    "ipykernel                 6.29.3             pyhd33586a_0    conda-forge\n",
    "ipython                   8.22.2             pyh707e725_0    conda-forge\n",
    "iterators                 0.0.2                    pypi_0    pypi\n",
    "jedi                      0.19.1             pyhd8ed1ab_0    conda-forge\n",
    "jinja2                    3.1.3              pyhd8ed1ab_0    conda-forge\n",
    "joblib                    1.4.2              pyhd8ed1ab_0    conda-forge\n",
    "json-c                    0.17                 h7ab15ed_0    conda-forge\n",
    "jupyter_client            8.6.1              pyhd8ed1ab_0    conda-forge\n",
    "jupyter_core              5.7.2           py310hff52083_0    conda-forge\n",
    "kealib                    1.5.3                h2f55d51_0    conda-forge\n",
    "keyutils                  1.6.1                h166bdaf_0    conda-forge\n",
    "kiwisolver                1.4.5           py310hd41b1e2_1    conda-forge\n",
    "krb5                      1.21.2               h659d440_0    conda-forge\n",
    "lame                      3.100             h166bdaf_1003    conda-forge\n",
    "lcms2                     2.16                 hb7c19ff_0    conda-forge\n",
    "ld_impl_linux-64          2.40                 h55db66e_0    conda-forge\n",
    "lerc                      4.0.0                h27087fc_0    conda-forge\n",
    "libabseil                 20240116.2      cxx17_h59595ed_0    conda-forge\n",
    "libaec                    1.1.3                h59595ed_0    conda-forge\n",
    "libarchive                3.7.2                h2aa1ff5_1    conda-forge\n",
    "libasprintf               0.22.5               h661eb56_2    conda-forge\n",
    "libasprintf-devel         0.22.5               h661eb56_2    conda-forge\n",
    "libblas                   3.9.0           22_linux64_openblas    conda-forge\n",
    "libboost-headers          1.84.0               ha770c72_2    conda-forge\n",
    "libbrotlicommon           1.1.0                hd590300_1    conda-forge\n",
    "libbrotlidec              1.1.0                hd590300_1    conda-forge\n",
    "libbrotlienc              1.1.0                hd590300_1    conda-forge\n",
    "libcap                    2.69                 h0f662aa_0    conda-forge\n",
    "libcblas                  3.9.0           22_linux64_openblas    conda-forge\n",
    "libclang-cpp15            15.0.7          default_h127d8a8_5    conda-forge\n",
    "libclang13                18.1.5          default_h5d6823c_0    conda-forge\n",
    "libcrc32c                 1.1.2                h9c3ff4c_0    conda-forge\n",
    "libcups                   2.3.3                h4637d8d_4    conda-forge\n",
    "libcurl                   8.7.1                hca28451_0    conda-forge\n",
    "libdeflate                1.20                 hd590300_0    conda-forge\n",
    "libedit                   3.1.20191231         he28a2e2_2    conda-forge\n",
    "libev                     4.33                 hd590300_2    conda-forge\n",
    "libevent                  2.1.12               hf998b51_1    conda-forge\n",
    "libexpat                  2.6.2                h59595ed_0    conda-forge\n",
    "libffi                    3.4.2                h7f98852_5    conda-forge\n",
    "libflac                   1.4.3                h59595ed_0    conda-forge\n",
    "libgcc-ng                 13.2.0               h77fa898_7    conda-forge\n",
    "libgcrypt                 1.10.3               hd590300_0    conda-forge\n",
    "libgdal                   3.8.5                hf9625ee_2    conda-forge\n",
    "libgettextpo              0.22.5               h59595ed_2    conda-forge\n",
    "libgettextpo-devel        0.22.5               h59595ed_2    conda-forge\n",
    "libgfortran-ng            13.2.0               h69a702a_7    conda-forge\n",
    "libgfortran5              13.2.0               hca663fb_7    conda-forge\n",
    "libglib                   2.80.0               hf2295e7_6    conda-forge\n",
    "libgomp                   13.2.0               h77fa898_7    conda-forge\n",
    "libgoogle-cloud           2.23.0               h9be4e54_1    conda-forge\n",
    "libgoogle-cloud-storage   2.23.0               hc7a4891_1    conda-forge\n",
    "libgpg-error              1.49                 h4f305b6_0    conda-forge\n",
    "libgrpc                   1.62.2               h15f2491_0    conda-forge\n",
    "libiconv                  1.17                 hd590300_2    conda-forge\n",
    "libjpeg-turbo             3.0.0                hd590300_1    conda-forge\n",
    "libkml                    1.3.0             h01aab08_1018    conda-forge\n",
    "liblapack                 3.9.0           22_linux64_openblas    conda-forge\n",
    "libllvm14                 14.0.6               hcd5def8_4    conda-forge\n",
    "libllvm15                 15.0.7               hb3ce162_4    conda-forge\n",
    "libllvm18                 18.1.5               hb77312f_0    conda-forge\n",
    "libnetcdf                 4.9.2           nompi_h9612171_113    conda-forge\n",
    "libnghttp2                1.58.0               h47da74e_1    conda-forge\n",
    "libnsl                    2.0.1                hd590300_0    conda-forge\n",
    "libogg                    1.3.4                h7f98852_1    conda-forge\n",
    "libopenblas               0.3.27          pthreads_h413a1c8_0    conda-forge\n",
    "libopus                   1.3.1                h7f98852_1    conda-forge\n",
    "libpng                    1.6.43               h2797004_0    conda-forge\n",
    "libpq                     16.2                 h33b98f1_1    conda-forge\n",
    "libprotobuf               4.25.3               h08a7969_0    conda-forge\n",
    "libre2-11                 2023.09.01           h5a48ba9_2    conda-forge\n",
    "librttopo                 1.1.0               h8917695_15    conda-forge\n",
    "libsndfile                1.2.2                hc60ed4a_1    conda-forge\n",
    "libsodium                 1.0.18               h36c2ea0_1    conda-forge\n",
    "libspatialindex           1.9.3                h9c3ff4c_4    conda-forge\n",
    "libspatialite             5.1.0                h6f065fc_5    conda-forge\n",
    "libsqlite                 3.45.3               h2797004_0    conda-forge\n",
    "libssh2                   1.11.0               h0841786_0    conda-forge\n",
    "libstdcxx-ng              13.2.0               hc0a3c3a_7    conda-forge\n",
    "libsystemd0               255                  h3516f8a_1    conda-forge\n",
    "libtiff                   4.6.0                h1dd3fc0_3    conda-forge\n",
    "libuuid                   2.38.1               h0b41bf4_0    conda-forge\n",
    "libvorbis                 1.3.7                h9c3ff4c_0    conda-forge\n",
    "libwebp-base              1.4.0                hd590300_0    conda-forge\n",
    "libxcb                    1.15                 h0b41bf4_0    conda-forge\n",
    "libxcrypt                 4.4.36               hd590300_1    conda-forge\n",
    "libxkbcommon              1.7.0                h662e7e4_0    conda-forge\n",
    "libxml2                   2.12.6               h232c23b_2    conda-forge\n",
    "libzip                    1.10.1               h2629f0a_3    conda-forge\n",
    "libzlib                   1.2.13               hd590300_5    conda-forge\n",
    "linkify-it-py             2.0.3              pyhd8ed1ab_0    conda-forge\n",
    "llvmlite                  0.42.0          py310h1b8f574_1    conda-forge\n",
    "locket                    1.0.0              pyhd8ed1ab_0    conda-forge\n",
    "lz4-c                     1.9.4                hcb278e6_0    conda-forge\n",
    "lzo                       2.10              hd590300_1001    conda-forge\n",
    "mapclassify               2.6.1              pyhd8ed1ab_0    conda-forge\n",
    "markdown                  3.6                pyhd8ed1ab_0    conda-forge\n",
    "markdown-it-py            3.0.0              pyhd8ed1ab_0    conda-forge\n",
    "markupsafe                2.1.5           py310h2372a71_0    conda-forge\n",
    "matplotlib                3.8.4           py310hff52083_0    conda-forge\n",
    "matplotlib-base           3.8.4           py310h62c0568_0    conda-forge\n",
    "matplotlib-inline         0.1.7              pyhd8ed1ab_0    conda-forge\n",
    "mccabe                    0.7.0              pyhd8ed1ab_0    conda-forge\n",
    "mdit-py-plugins           0.4.0              pyhd8ed1ab_0    conda-forge\n",
    "mdurl                     0.1.2              pyhd8ed1ab_0    conda-forge\n",
    "minizip                   4.0.5                h0ab5242_0    conda-forge\n",
    "movingpandas              0.17.3                    dev_0    <develop>\n",
    "mpg123                    1.32.6               h59595ed_0    conda-forge\n",
    "msgpack-python            1.0.3           py310hd09550d_0\n",
    "multipledispatch          0.6.0                      py_0    conda-forge\n",
    "munkres                   1.1.4              pyh9f0ad1d_0    conda-forge\n",
    "mypy_extensions           1.0.0              pyha770c72_0    conda-forge\n",
    "mysql-common              8.3.0                hf1915f5_4    conda-forge\n",
    "mysql-libs                8.3.0                hca2cd23_4    conda-forge\n",
    "ncurses                   6.4.20240210         h59595ed_0    conda-forge\n",
    "nest-asyncio              1.6.0              pyhd8ed1ab_0    conda-forge\n",
    "netcdf4                   1.6.5           nompi_py310hba70d50_100    conda-forge\n",
    "networkx                  3.3                pyhd8ed1ab_1    conda-forge\n",
    "nodeenv                   1.8.0              pyhd8ed1ab_0    conda-forge\n",
    "nspr                      4.35                 h27087fc_0    conda-forge\n",
    "nss                       3.98                 h1d7d5a4_0    conda-forge\n",
    "numba                     0.59.1          py310h7dc5dd1_0    conda-forge\n",
    "numpy                     1.26.4          py310hb13e2d6_0    conda-forge\n",
    "nvidia-cublas-cu11        11.10.3.66               pypi_0    pypi\n",
    "nvidia-cuda-nvrtc-cu11    11.7.99                  pypi_0    pypi\n",
    "nvidia-cuda-runtime-cu11  11.7.99                  pypi_0    pypi\n",
    "nvidia-cudnn-cu11         8.5.0.96                 pypi_0    pypi\n",
    "opacus                    1.4.0                    pypi_0    pypi\n",
    "openjpeg                  2.5.2                h488ebb8_0    conda-forge\n",
    "openssl                   3.3.0                hd590300_0    conda-forge\n",
    "opt-einsum                3.3.0                    pypi_0    pypi\n",
    "ordered-set               4.1.0              pyhd8ed1ab_0    conda-forge\n",
    "packaging                 24.0               pyhd8ed1ab_0    conda-forge\n",
    "pandas                    2.2.2           py310hcc13569_0    conda-forge\n",
    "panel                     1.2.3              pyhd8ed1ab_0    conda-forge\n",
    "param                     1.13.0             pyh1a96a4e_0    conda-forge\n",
    "parso                     0.8.4              pyhd8ed1ab_0    conda-forge\n",
    "partd                     1.4.2              pyhd8ed1ab_0    conda-forge\n",
    "pathspec                  0.12.1             pyhd8ed1ab_0    conda-forge\n",
    "patsy                     0.5.6              pyhd8ed1ab_0    conda-forge\n",
    "pcre2                     10.43                hcad00b1_0    conda-forge\n",
    "pexpect                   4.9.0              pyhd8ed1ab_0    conda-forge\n",
    "pickleshare               0.7.5                   py_1003    conda-forge\n",
    "pillow                    10.3.0          py310hf73ecf8_0    conda-forge\n",
    "pip                       24.0               pyhd8ed1ab_0    conda-forge\n",
    "pixman                    0.43.2               h59595ed_0    conda-forge\n",
    "platformdirs              4.2.1              pyhd8ed1ab_0    conda-forge\n",
    "pluggy                    1.5.0              pyhd8ed1ab_0    conda-forge\n",
    "ply                       3.11               pyhd8ed1ab_2    conda-forge\n",
    "poppler                   24.04.0              hb6cd0d7_0    conda-forge\n",
    "poppler-data              0.4.12               hd8ed1ab_0    conda-forge\n",
    "postgresql                16.2                 h82ecc9d_1    conda-forge\n",
    "pre-commit                3.7.0              pyha770c72_0    conda-forge\n",
    "proj                      9.4.0                h1d62c97_1    conda-forge\n",
    "prompt-toolkit            3.0.42             pyha770c72_0    conda-forge\n",
    "protobuf                  4.25.3                   pypi_0    pypi\n",
    "psutil                    5.9.8           py310h2372a71_0    conda-forge\n",
    "pthread-stubs             0.4               h36c2ea0_1001    conda-forge\n",
    "ptyprocess                0.7.0              pyhd3deb0d_0    conda-forge\n",
    "pulseaudio-client         17.0                 hb77b528_0    conda-forge\n",
    "pure_eval                 0.2.2              pyhd8ed1ab_0    conda-forge\n",
    "pycodestyle               2.11.1             pyhd8ed1ab_0    conda-forge\n",
    "pycparser                 2.22               pyhd8ed1ab_0    conda-forge\n",
    "pycryptodome              3.20.0                   pypi_0    pypi\n",
    "pyct                      0.5.0              pyhd8ed1ab_0    conda-forge\n",
    "pyflakes                  3.2.0              pyhd8ed1ab_0    conda-forge\n",
    "pygments                  2.18.0             pyhd8ed1ab_0    conda-forge\n",
    "pymap3d                   3.1.0              pyhd8ed1ab_0    conda-forge\n",
    "pyparsing                 3.1.2              pyhd8ed1ab_0    conda-forge\n",
    "pyproj                    3.6.1           py310h7677b6e_6    conda-forge\n",
    "pyqt                      5.15.9          py310h04931ad_5    conda-forge\n",
    "pyqt5-sip                 12.12.2         py310hc6cd4ac_5    conda-forge\n",
    "pyshp                     2.3.1              pyhd8ed1ab_0    conda-forge\n",
    "pysocks                   1.7.1              pyha2e5f31_6    conda-forge\n",
    "pytest                    8.2.0              pyhd8ed1ab_0    conda-forge\n",
    "pytest-cov                5.0.0              pyhd8ed1ab_0    conda-forge\n",
    "python                    3.10.14         hd12c33a_0_cpython    conda-forge\n",
    "python-dateutil           2.9.0              pyhd8ed1ab_0    conda-forge\n",
    "python-lmdb               1.4.1           py310h6a678d5_0\n",
    "python-tzdata             2024.1             pyhd8ed1ab_0    conda-forge\n",
    "python_abi                3.10                    4_cp310    conda-forge\n",
    "pytz                      2024.1             pyhd8ed1ab_0    conda-forge\n",
    "pyviz_comms               3.0.1              pyhd8ed1ab_0    conda-forge\n",
    "pyyaml                    6.0.1           py310h2372a71_1    conda-forge\n",
    "pyzmq                     26.0.3          py310h6883aea_0    conda-forge\n",
    "qt-main                   5.15.8              hc9dc06e_21    conda-forge\n",
    "rasterio                  1.3.10          py310he1887dc_0    conda-forge\n",
    "re2                       2023.09.01           h7f4b329_2    conda-forge\n",
    "readline                  8.2                  h8228510_1    conda-forge\n",
    "requests                  2.31.0             pyhd8ed1ab_0    conda-forge\n",
    "rich                      13.7.1                   pypi_0    pypi\n",
    "rtree                     1.2.0           py310hbdcdc62_0    conda-forge\n",
    "ruamel.yaml               0.18.6          py310h2372a71_0    conda-forge\n",
    "ruamel.yaml.clib          0.2.8           py310h2372a71_0    conda-forge\n",
    "s2n                       1.4.12               h06160fa_0    conda-forge\n",
    "scikit-learn              1.4.2           py310h1fdf081_0    conda-forge\n",
    "scipy                     1.13.0          py310h93e2701_1    conda-forge\n",
    "seaborn                   0.13.2               hd8ed1ab_2    conda-forge\n",
    "seaborn-base              0.13.2             pyhd8ed1ab_2    conda-forge\n",
    "setuptools                69.5.1             pyhd8ed1ab_0    conda-forge\n",
    "shapely                   2.0.4           py310hc3e127f_0    conda-forge\n",
    "shellingham               1.5.4                    pypi_0    pypi\n",
    "sip                       6.7.12          py310hc6cd4ac_0    conda-forge\n",
    "six                       1.16.0             pyh6c4a22f_0    conda-forge\n",
    "snappy                    1.2.0                hdb0a2a9_1    conda-forge\n",
    "snuggs                    1.4.7                      py_0    conda-forge\n",
    "sortedcontainers          2.4.0              pyhd3eb1b0_0\n",
    "spdlog                    1.13.0               hd2e6256_0    conda-forge\n",
    "sqlite                    3.45.3               h2c6b66d_0    conda-forge\n",
    "stack_data                0.6.2              pyhd8ed1ab_0    conda-forge\n",
    "statsmodels               0.14.1          py310h1f7b6fc_0    conda-forge\n",
    "stonesoup                 1.2                pyhd8ed1ab_0    conda-forge\n",
    "tblib                     1.7.0              pyhd3eb1b0_0\n",
    "threadpoolctl             3.5.0              pyhc1e730c_0    conda-forge\n",
    "tiledb                    2.22.0               h27f064a_3    conda-forge\n",
    "tk                        8.6.13          noxft_h4845f30_101    conda-forge\n",
    "toml                      0.10.2             pyhd8ed1ab_0    conda-forge\n",
    "tomli                     2.0.1              pyhd8ed1ab_0    conda-forge\n",
    "toolz                     0.12.1             pyhd8ed1ab_0    conda-forge\n",
    "torch                     1.13.1                   pypi_0    pypi\n",
    "tornado                   6.4             py310h2372a71_0    conda-forge\n",
    "tqdm                      4.64.1                   pypi_0    pypi\n",
    "traitlets                 5.14.3             pyhd8ed1ab_0    conda-forge\n",
    "typer                     0.9.4                    pypi_0    pypi\n",
    "typing_extensions         4.11.0             pyha770c72_0    conda-forge\n",
    "tzcode                    2024a                h3f72095_0    conda-forge\n",
    "tzdata                    2024a                h0c530f3_0    conda-forge\n",
    "uc-micro-py               1.0.3              pyhd8ed1ab_0    conda-forge\n",
    "ukkonen                   1.0.1           py310hd41b1e2_4    conda-forge\n",
    "unicodedata2              15.1.0          py310h2372a71_0    conda-forge\n",
    "uriparser                 0.9.8                hac33072_0    conda-forge\n",
    "urllib3                   2.2.1              pyhd8ed1ab_0    conda-forge\n",
    "utm                       0.7.0              pyhd8ed1ab_0    conda-forge\n",
    "virtualenv                20.26.1            pyhd8ed1ab_0    conda-forge\n",
    "wcwidth                   0.2.13             pyhd8ed1ab_0    conda-forge\n",
    "webencodings              0.5.1              pyhd8ed1ab_2    conda-forge\n",
    "wheel                     0.43.0             pyhd8ed1ab_1    conda-forge\n",
    "xarray                    2023.6.0        py310h06a4308_0\n",
    "xcb-util                  0.4.0                hd590300_1    conda-forge\n",
    "xcb-util-image            0.4.0                h8ee46fc_1    conda-forge\n",
    "xcb-util-keysyms          0.4.0                h8ee46fc_1    conda-forge\n",
    "xcb-util-renderutil       0.3.9                hd590300_1    conda-forge\n",
    "xcb-util-wm               0.4.1                h8ee46fc_1    conda-forge\n",
    "xerces-c                  3.2.5                hac6953d_0    conda-forge\n",
    "xkeyboard-config          2.41                 hd590300_0    conda-forge\n",
    "xorg-kbproto              1.0.7             h7f98852_1002    conda-forge\n",
    "xorg-libice               1.1.1                hd590300_0    conda-forge\n",
    "xorg-libsm                1.2.4                h7391055_0    conda-forge\n",
    "xorg-libx11               1.8.9                h8ee46fc_0    conda-forge\n",
    "xorg-libxau               1.0.11               hd590300_0    conda-forge\n",
    "xorg-libxdmcp             1.1.3                h7f98852_0    conda-forge\n",
    "xorg-libxext              1.3.4                h0b41bf4_2    conda-forge\n",
    "xorg-libxrender           0.9.11               hd590300_0    conda-forge\n",
    "xorg-renderproto          0.11.1            h7f98852_1002    conda-forge\n",
    "xorg-xextproto            7.3.0             h0b41bf4_1003    conda-forge\n",
    "xorg-xf86vidmodeproto     2.3.1             h7f98852_1002    conda-forge\n",
    "xorg-xproto               7.0.31            h7f98852_1007    conda-forge\n",
    "xyzservices               2024.4.0           pyhd8ed1ab_0    conda-forge\n",
    "xz                        5.2.6                h166bdaf_0    conda-forge\n",
    "yaml                      0.2.5                h7f98852_2    conda-forge\n",
    "zeromq                    4.3.5                h75354e8_3    conda-forge\n",
    "zict                      3.0.0           py310h06a4308_0\n",
    "zipp                      3.17.0             pyhd8ed1ab_0    conda-forge\n",
    "zlib                      1.2.13               hd590300_5    conda-forge\n",
    "zstd                      1.5.6                ha6fb4c9_0    conda-forge\n",
    "```"
   ]
  },
  {
   "cell_type": "markdown",
   "metadata": {},
   "source": [
    "## Imports"
   ]
  },
  {
   "cell_type": "code",
   "execution_count": null,
   "metadata": {
    "slideshow": {
     "slide_type": "slide"
    }
   },
   "outputs": [],
   "source": [
    "import os\n",
    "import sys\n",
    "import pandas as pd\n",
    "from torch.utils.data import DataLoader\n",
    "\n",
    "sys.path.append(\"../src\")\n",
    "from mobiml.datasets import BrestAIS, TIMESTAMP, MOVER_ID, TRAJ_ID, PreprocessedBrestAIS\n",
    "from mobiml.preprocessing import TrajectoryDownsampler, TrajectoryFilter, TrajectoryEnricher, TrajectorySplitter\n",
    "from mobiml.transforms import DeltaDatasetCreator\n",
    "from mobiml.samplers import TemporalSplitter"
   ]
  },
  {
   "cell_type": "markdown",
   "metadata": {
    "slideshow": {
     "slide_type": "slide"
    }
   },
   "source": [
    "## Loading Brest / Nari data"
   ]
  },
  {
   "cell_type": "markdown",
   "metadata": {},
   "source": [
    "##### These datasets can be downloaded from: https://zenodo.org/record/1167595/files/%5BP1%5D%20AIS%20Data.zip?download=1"
   ]
  },
  {
   "cell_type": "markdown",
   "metadata": {},
   "source": [
    "### Dynamic"
   ]
  },
  {
   "cell_type": "code",
   "execution_count": null,
   "metadata": {},
   "outputs": [],
   "source": [
    "%%time\n",
    "ais = BrestAIS(r\"../examples/data/nari_dynamic.csv\", filter_invalid_mmsis=True, nrows=200000)\n",
    "ais.df.head()"
   ]
  },
  {
   "cell_type": "markdown",
   "metadata": {},
   "source": [
    "### Static"
   ]
  },
  {
   "cell_type": "code",
   "execution_count": null,
   "metadata": {},
   "outputs": [],
   "source": [
    "df_static = pd.read_csv(r\"../examples/data/nari_static.csv\")\n",
    "df_static = df_static.sort_values('t') \\\n",
    "    .dropna(subset=['shiptype']) \\\n",
    "    .drop_duplicates(subset=['sourcemmsi'], keep='last')[['sourcemmsi', 'shiptype']]\n",
    "df_static"
   ]
  },
  {
   "cell_type": "markdown",
   "metadata": {},
   "source": [
    "## Preprocessing "
   ]
  },
  {
   "cell_type": "markdown",
   "metadata": {},
   "source": [
    "### Subsample trajectories with $\\Delta t_{min}$"
   ]
  },
  {
   "cell_type": "code",
   "execution_count": null,
   "metadata": {},
   "outputs": [],
   "source": [
    "%%time\n",
    "ais = TrajectoryDownsampler(ais).subsample(min_dt_sec=10)\n",
    "\n",
    "print(f'[Subsampling] Dataset AIS Positions: {len(ais.df)}')\n",
    "print(f'{ais.df.sort_values(TIMESTAMP).groupby(MOVER_ID)[TIMESTAMP].diff().dt.total_seconds().describe().astype(str)=}')"
   ]
  },
  {
   "cell_type": "markdown",
   "metadata": {},
   "source": [
    "### Drop trajectories with fewer than $Points_{min}$ locations"
   ]
  },
  {
   "cell_type": "code",
   "execution_count": null,
   "metadata": {},
   "outputs": [],
   "source": [
    "%%time\n",
    "ais = TrajectoryFilter(ais).filter_min_pts(min_pts=20)\n",
    "\n",
    "print(f'[Trajectory Pruning] Dataset AIS Positions: {len(ais.df)}')"
   ]
  },
  {
   "cell_type": "markdown",
   "metadata": {},
   "source": [
    "### Re-calculate speed and course over ground"
   ]
  },
  {
   "cell_type": "code",
   "execution_count": null,
   "metadata": {},
   "outputs": [],
   "source": [
    "ais.df"
   ]
  },
  {
   "cell_type": "code",
   "execution_count": null,
   "metadata": {},
   "outputs": [],
   "source": [
    "%%time\n",
    "ais = TrajectoryEnricher(ais).add_speed(units=('nm','h'), overwrite=True)\n",
    "ais = TrajectoryEnricher(ais).add_direction(overwrite=True)"
   ]
  },
  {
   "cell_type": "code",
   "execution_count": null,
   "metadata": {},
   "outputs": [],
   "source": [
    "ais.df"
   ]
  },
  {
   "cell_type": "markdown",
   "metadata": {},
   "source": [
    "### Drop speed outliers "
   ]
  },
  {
   "cell_type": "code",
   "execution_count": null,
   "metadata": {},
   "outputs": [],
   "source": [
    "%%time\n",
    "ais = TrajectoryFilter(ais).filter_speed(min_speed=1, max_speed=50)\n",
    "print(f'[Speed Outliers] Dataset AIS Positions: {len(ais.df)}')\n",
    "print(f'{ais.df[\"speed\"].describe().round(5).astype(str)=}')"
   ]
  },
  {
   "cell_type": "markdown",
   "metadata": {},
   "source": [
    "### Temporal segmentation / splitting trajectories"
   ]
  },
  {
   "cell_type": "code",
   "execution_count": null,
   "metadata": {},
   "outputs": [],
   "source": [
    "%%time\n",
    "from datetime import timedelta\n",
    "ais = TrajectorySplitter(ais).split(observation_gap=timedelta(minutes=30))\n",
    "ais = TrajectoryFilter(ais).filter_min_pts(min_pts=10)\n",
    "print(f'[Temporal Segmentation] Dataset AIS Positions: {len(ais.df)}')"
   ]
  },
  {
   "cell_type": "code",
   "execution_count": null,
   "metadata": {},
   "outputs": [],
   "source": [
    "ais.df.groupby([MOVER_ID, TRAJ_ID]).apply(len, include_groups=False).sort_values()"
   ]
  },
  {
   "cell_type": "markdown",
   "metadata": {},
   "source": [
    "### Save results"
   ]
  },
  {
   "cell_type": "code",
   "execution_count": null,
   "metadata": {},
   "outputs": [],
   "source": [
    "ais.df.to_csv(\n",
    "    os.path.join('data/nautilus_trajectories_preprocessed.csv'),\n",
    "    index=False, \n",
    "    header=True\n",
    ")"
   ]
  },
  {
   "cell_type": "code",
   "execution_count": null,
   "metadata": {},
   "outputs": [],
   "source": [
    "ais = PreprocessedBrestAIS('data/nautilus_trajectories_preprocessed.csv')\n",
    "ais.df"
   ]
  },
  {
   "cell_type": "markdown",
   "metadata": {},
   "source": [
    "### Temporal train/dev/test split\n",
    "\n",
    "50/25/25 (e.g., 3mos, ~1.5mos will be used for train and ~0.75mos will be used for validation and testing, respectively)"
   ]
  },
  {
   "cell_type": "code",
   "execution_count": null,
   "metadata": {},
   "outputs": [],
   "source": [
    "ais = TemporalSplitter(ais).split()\n",
    "ais.df"
   ]
  },
  {
   "cell_type": "code",
   "execution_count": null,
   "metadata": {},
   "outputs": [],
   "source": [
    "print(f\"Sanity Check #1;\\n\\t{ais.df.groupby([MOVER_ID, TRAJ_ID, 'split'])[TIMESTAMP].is_monotonic_increasing.all()=}\")"
   ]
  },
  {
   "cell_type": "markdown",
   "metadata": {},
   "source": [
    "### Create VRF training dataset \n",
    "\n",
    "Create delta dataset (with x, y, and t deltas) and split it into constant-length windows for ML model training"
   ]
  },
  {
   "cell_type": "code",
   "execution_count": null,
   "metadata": {},
   "outputs": [],
   "source": [
    "traj_delta = DeltaDatasetCreator(ais).get_delta_dataset('split', njobs=4)\n",
    "traj_delta"
   ]
  },
  {
   "cell_type": "code",
   "execution_count": null,
   "metadata": {},
   "outputs": [],
   "source": [
    "traj_delta_windows = DeltaDatasetCreator(ais).get_windowed_dataset('split', njobs=4)\n",
    "traj_delta_windows.to_pickle('data/traj_delta_windows.pickle')\n",
    "traj_delta_windows"
   ]
  },
  {
   "cell_type": "markdown",
   "metadata": {},
   "source": [
    "## Training"
   ]
  },
  {
   "cell_type": "code",
   "execution_count": null,
   "metadata": {},
   "outputs": [],
   "source": [
    "import torch\n",
    "import numpy as np\n",
    "from mobiml.models.vrf.vrf import VesselRouteForecasting, RMSELoss, train_model, vrf_evaluate_model_singlehead, VRFDataset"
   ]
  },
  {
   "cell_type": "markdown",
   "metadata": {},
   "source": [
    "### Create unified train/dev/test dataset(s)"
   ]
  },
  {
   "cell_type": "code",
   "execution_count": null,
   "metadata": {},
   "outputs": [],
   "source": [
    "traj_delta_windows = pd.read_pickle('data/traj_delta_windows.pickle')"
   ]
  },
  {
   "cell_type": "code",
   "execution_count": null,
   "metadata": {},
   "outputs": [],
   "source": [
    "train_delta_windows = traj_delta_windows.xs(1, level=1).copy()\n",
    "dev_delta_windows = traj_delta_windows.xs(2, level=1).copy()\n",
    "test_delta_windows = traj_delta_windows.xs(3, level=1).copy()"
   ]
  },
  {
   "cell_type": "code",
   "execution_count": null,
   "metadata": {},
   "outputs": [],
   "source": [
    "train_delta_windows"
   ]
  },
  {
   "cell_type": "markdown",
   "metadata": {},
   "source": [
    "### Create kinematic features' temporal sequence (i.e. training dataset)"
   ]
  },
  {
   "cell_type": "code",
   "execution_count": null,
   "metadata": {},
   "outputs": [],
   "source": [
    "BS=1\n",
    "\n",
    "train_dataset = VRFDataset(train_delta_windows)\n",
    "dev_dataset, test_dataset = VRFDataset(dev_delta_windows, scaler=train_dataset.scaler),\\\n",
    "                            VRFDataset(test_delta_windows, scaler=train_dataset.scaler)\n",
    "\n",
    "train_loader, dev_loader, test_loader = DataLoader(train_dataset, batch_size=BS, shuffle=True, collate_fn=train_dataset.pad_collate),\\\n",
    "                                        DataLoader(dev_dataset,   batch_size=BS, shuffle=False, collate_fn=dev_dataset.pad_collate),\\\n",
    "                                        DataLoader(test_dataset,  batch_size=BS, shuffle=False, collate_fn=test_dataset.pad_collate)"
   ]
  },
  {
   "cell_type": "code",
   "execution_count": null,
   "metadata": {},
   "outputs": [],
   "source": [
    "\n",
    "\n",
    "GPUID=0\n",
    "\n",
    "device = torch.device(f'cuda:{GPUID}') if torch.cuda.is_available() else torch.device('cpu')\n",
    "ddc = DeltaDatasetCreator(None)\n",
    "\n",
    "\n",
    "model_params = dict({},\n",
    "    input_size=len(ddc.input_feats),\n",
    "    scale=dict(\n",
    "        sigma=torch.Tensor(train_dataset.scaler.scale_[:2]), \n",
    "        mu=torch.Tensor(train_dataset.scaler.mean_[:2])\n",
    "    ),\n",
    "    bidirectional=True,\n",
    "    num_layers=1,\n",
    "    hidden_size=350,\n",
    "    fc_layers=[150,]\n",
    ")"
   ]
  },
  {
   "cell_type": "code",
   "execution_count": null,
   "metadata": {},
   "outputs": [],
   "source": [
    "\n",
    "\n",
    "model = VesselRouteForecasting(**model_params)\n",
    "model.to(device)\n",
    "\n",
    "print(model)\n",
    "print(f'{device=}')\n",
    "\n",
    "criterion = RMSELoss(eps=1e-4)\n",
    "optimizer = torch.optim.Adam(model.parameters(), lr=1e-4)"
   ]
  },
  {
   "cell_type": "code",
   "execution_count": null,
   "metadata": {},
   "outputs": [],
   "source": [
    "\n",
    "MAX_DT = 1800\n",
    "\n",
    "PATIENCE = 0  # original: 10 may be why the best model was not saved since we're only doing 3 training rounds in this demo\n",
    "model_path =   f'data/nautilus.model'\n",
    "\n",
    "evaluate_fun_params = dict(\n",
    "    bins=np.arange(0, MAX_DT+1, 300)\n",
    ")\n",
    "\n",
    "early_stop_params = dict(\n",
    "    patience=PATIENCE,\n",
    "    save_best=True,\n",
    "    path=model_path\n",
    ")\n",
    "\n",
    "save_current_params = dict(\n",
    "    path=model_path\n",
    ")\n",
    "\n",
    "train_model(\n",
    "    model, device, criterion, optimizer, 10, # originally: 100 rounds\n",
    "    train_loader, dev_loader, early_stop=True, save_current=True, \n",
    "    evaluate_fun=vrf_evaluate_model_singlehead, evaluate_fun_params=evaluate_fun_params,\n",
    "    early_stop_params=early_stop_params, save_current_params=save_current_params\n",
    ")"
   ]
  },
  {
   "cell_type": "code",
   "execution_count": null,
   "metadata": {},
   "outputs": [],
   "source": [
    "checkpoint = torch.load(model_path)\n",
    "\n",
    "model.load_state_dict(checkpoint['model_state_dict'])\n",
    "optimizer.load_state_dict(checkpoint['optimizer_state_dict'])\n",
    "\n",
    "vrf_evaluate_model_singlehead(model, device, criterion, test_loader, desc='ADE @ Test Set...', **evaluate_fun_params)"
   ]
  },
  {
   "cell_type": "code",
   "execution_count": null,
   "metadata": {},
   "outputs": [],
   "source": []
  }
 ],
 "metadata": {
  "kernelspec": {
   "display_name": "Python 3 (ipykernel)",
   "language": "python",
   "name": "python3"
  },
  "language_info": {
   "codemirror_mode": {
    "name": "ipython",
    "version": 3
   },
   "file_extension": ".py",
   "mimetype": "text/x-python",
   "name": "python",
   "nbconvert_exporter": "python",
   "pygments_lexer": "ipython3",
   "version": "3.10.16"
  }
 },
 "nbformat": 4,
 "nbformat_minor": 2
}
