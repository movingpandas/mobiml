{
 "cells": [
  {
   "cell_type": "markdown",
   "metadata": {},
   "source": [
    "```\n",
    "# coding: utf-8\n",
    "\n",
    "# MIT License\n",
    "#\n",
    "# Copyright (c) 2018 Duong Nguyen\n",
    "#\n",
    "# Permission is hereby granted, free of charge, to any person obtaining a copy\n",
    "# of this software and associated documentation files (the \"Software\"), to deal\n",
    "# in the Software without restriction, including without limitation the rights\n",
    "# to use, copy, modify, merge, publish, distribute, sublicense, and/or sell\n",
    "# copies of the Software, and to permit persons to whom the Software is\n",
    "# furnished to do so, subject to the following conditions:\n",
    "#\n",
    "# The above copyright notice and this permission notice shall be included in all\n",
    "# copies or substantial portions of the Software.\n",
    "#\n",
    "# THE SOFTWARE IS PROVIDED \"AS IS\", WITHOUT WARRANTY OF ANY KIND, EXPRESS OR\n",
    "# IMPLIED, INCLUDING BUT NOT LIMITED TO THE WARRANTIES OF MERCHANTABILITY,\n",
    "# FITNESS FOR A PARTICULAR PURPOSE AND NONINFRINGEMENT. IN NO EVENT SHALL THE\n",
    "# AUTHORS OR COPYRIGHT HOLDERS BE LIABLE FOR ANY CLAIM, DAMAGES OR OTHER\n",
    "# LIABILITY, WHETHER IN AN ACTION OF CONTRACT, TORT OR OTHERWISE, ARISING FROM,\n",
    "# OUT OF OR IN CONNECTION WITH THE SOFTWARE OR THE USE OR OTHER DEALINGS IN THE\n",
    "# SOFTWARE.\n",
    "# ==============================================================================\n",
    "```"
   ]
  },
  {
   "cell_type": "markdown",
   "metadata": {},
   "source": [
    "## Imports"
   ]
  },
  {
   "cell_type": "code",
   "execution_count": 20,
   "metadata": {},
   "outputs": [],
   "source": [
    "import numpy as np\n",
    "import os\n",
    "import sys\n",
    "import pickle\n",
    "from datetime import datetime\n",
    "from tqdm import tqdm\n",
    "import pandas as pd\n",
    "import geopandas as gpd\n",
    "import movingpandas as mpd\n",
    "from datetime import datetime, timedelta\n",
    "\n",
    "sys.path.append(\"..\")\n",
    "from mobiml.datasets import AISDK\n",
    "from mobiml.preprocessing import TrajectoryFilter\n",
    "from mobiml.transforms import TripExtractor, TemporalSplitter"
   ]
  },
  {
   "cell_type": "markdown",
   "metadata": {},
   "source": [
    "## Setup"
   ]
  },
  {
   "cell_type": "code",
   "execution_count": 21,
   "metadata": {},
   "outputs": [],
   "source": [
    "# AISDK dataset\n",
    "min_lon, min_lat, max_lon, max_lat = 11.0, 57.0, 13.0, 58.0\n",
    "\n",
    "SOG_MIN = 1.0\n",
    "SOG_MAX = 30.0  # SOG is truncated to 30.0 knots max\n",
    "\n",
    "# Pkl filenames\n",
    "pkl_filename_train = \"aisdk_20180208_train.pkl\"\n",
    "pkl_filename_valid = \"aisdk_20180208_valid.pkl\"\n",
    "pkl_filename_test = \"aisdk_20180208_test.pkl\"\n",
    "\n",
    "# Path to csv files\n",
    "data_path = \"../examples/data/\"\n",
    "csv_filename = \"aisdk_20180208_sample.zip\"\n",
    "\n",
    "# Output path\n",
    "out_path = \"../examples/data/\""
   ]
  },
  {
   "cell_type": "markdown",
   "metadata": {},
   "source": [
    "## Loading data"
   ]
  },
  {
   "cell_type": "markdown",
   "metadata": {},
   "source": [
    "##### Filter to ROI by specifying bounding box"
   ]
  },
  {
   "cell_type": "code",
   "execution_count": null,
   "metadata": {},
   "outputs": [],
   "source": [
    "path = os.path.join(data_path, csv_filename)\n",
    "print(f\"{datetime.now()} Loading data from {path}\")\n",
    "aisdk = AISDK(path, min_lon, min_lat, max_lon, max_lat)"
   ]
  },
  {
   "cell_type": "markdown",
   "metadata": {},
   "source": [
    "## Preprocessing"
   ]
  },
  {
   "cell_type": "markdown",
   "metadata": {},
   "source": [
    "##### Remove missing values"
   ]
  },
  {
   "cell_type": "code",
   "execution_count": null,
   "metadata": {},
   "outputs": [],
   "source": [
    "aisdk.df = aisdk.df.dropna()\n",
    "aisdk.df.head()"
   ]
  },
  {
   "cell_type": "code",
   "execution_count": null,
   "metadata": {},
   "outputs": [],
   "source": [
    "print(\"After removing missing values we have...\")\n",
    "print(\"Total number of AIS messages: \", aisdk.df.shape[0])\n",
    "print(\"Total number of vessels:\", len(aisdk.df.traj_id.unique()))\n",
    "print(\"Lat min: \", aisdk.df.y.min(), \"Lat max: \", aisdk.df.y.max())\n",
    "print(\"Lon min: \", aisdk.df.x.min(), \"Lon max: \", aisdk.df.x.max())\n",
    "print(\"Time min: \", aisdk.df.timestamp.min(), \"Time max: \", aisdk.df.timestamp.max())"
   ]
  },
  {
   "cell_type": "markdown",
   "metadata": {},
   "source": [
    "##### Remove 'Moored' and 'At anchor' AIS messages"
   ]
  },
  {
   "cell_type": "code",
   "execution_count": null,
   "metadata": {},
   "outputs": [],
   "source": [
    "moored_at_anchor = aisdk.df[\n",
    "    (aisdk.df[\"nav_status\"] == \"Moored\") | (aisdk.df[\"nav_status\"] == \"At anchor\")\n",
    "]\n",
    "aisdk.df = pd.concat([aisdk.df, moored_at_anchor]).drop_duplicates(keep=False)\n",
    "print(\"After removing 'Moored' or 'At anchor' AIS messages we have...\")\n",
    "print(\"Total number of AIS messages: \", aisdk.df.shape[0])"
   ]
  },
  {
   "cell_type": "markdown",
   "metadata": {},
   "source": [
    "##### Drop trajectories with fewer than $Points_{min}$ locations"
   ]
  },
  {
   "cell_type": "code",
   "execution_count": null,
   "metadata": {},
   "outputs": [],
   "source": [
    "aisdk = TrajectoryFilter(aisdk).filter_min_pts(min_pts=20)\n",
    "print(\"After removing trajectories with too few points we have...\")\n",
    "print(\"Total number of AIS messages: \", aisdk.df.shape[0])"
   ]
  },
  {
   "cell_type": "markdown",
   "metadata": {},
   "source": [
    "##### Drop speed outliers"
   ]
  },
  {
   "cell_type": "code",
   "execution_count": null,
   "metadata": {},
   "outputs": [],
   "source": [
    "aisdk = TrajectoryFilter(aisdk).filter_speed(min_speed=SOG_MIN, max_speed=SOG_MAX)\n",
    "print(\"After removing speed outliers we have...\")\n",
    "print(\"Total number of AIS messages: \", aisdk.df.shape[0])"
   ]
  },
  {
   "cell_type": "markdown",
   "metadata": {},
   "source": [
    "##### Temporal train/valid/test split"
   ]
  },
  {
   "cell_type": "code",
   "execution_count": null,
   "metadata": {},
   "outputs": [],
   "source": [
    "aisdk = TemporalSplitter(aisdk).split_hr()\n",
    "aisdk.df"
   ]
  },
  {
   "cell_type": "code",
   "execution_count": null,
   "metadata": {},
   "outputs": [],
   "source": [
    "aisdk_train = aisdk.df[(aisdk.df[\"split\"] == 1.0)]\n",
    "aisdk_valid = aisdk.df[(aisdk.df[\"split\"] == 2.0)]\n",
    "aisdk_test = aisdk.df[(aisdk.df[\"split\"] == 3.0)]\n",
    "\n",
    "print(\"Total number of AIS messages: \", len(aisdk.df))\n",
    "print(\"Number of msgs in the training set: \", len(aisdk_train))\n",
    "print(\"Number of msgs in the validation set: \", len(aisdk_valid))\n",
    "print(\"Number of msgs in the test set: \", len(aisdk_test))"
   ]
  },
  {
   "cell_type": "markdown",
   "metadata": {},
   "source": [
    "##### Remove short trajectories"
   ]
  },
  {
   "cell_type": "code",
   "execution_count": 30,
   "metadata": {},
   "outputs": [],
   "source": [
    "aisdk_train = gpd.GeoDataFrame(\n",
    "    aisdk_train,\n",
    "    geometry=gpd.points_from_xy(aisdk_train.x, aisdk_train.y),\n",
    "    crs=\"EPSG:4326\",\n",
    ")\n",
    "aisdk_valid = gpd.GeoDataFrame(\n",
    "    aisdk_valid,\n",
    "    geometry=gpd.points_from_xy(aisdk_valid.x, aisdk_valid.y),\n",
    "    crs=\"EPSG:4326\",\n",
    ")\n",
    "aisdk_test = gpd.GeoDataFrame(\n",
    "    aisdk_test, geometry=gpd.points_from_xy(aisdk_test.x, aisdk_test.y), crs=\"EPSG:4326\"\n",
    ")"
   ]
  },
  {
   "cell_type": "code",
   "execution_count": null,
   "metadata": {},
   "outputs": [],
   "source": [
    "print(\n",
    "    \"Removing AIS trajectories with a length less than 20 or with a duration of less than 1h...\"\n",
    ")\n",
    "aisdk_train = TripExtractor(\n",
    "    aisdk_train, min_length=20, min_duration=timedelta(minutes=60)\n",
    ")"
   ]
  },
  {
   "cell_type": "code",
   "execution_count": null,
   "metadata": {},
   "outputs": [],
   "source": [
    "aisdk_valid = TripExtractor(\n",
    "    aisdk_valid, min_length=20, min_duration=timedelta(minutes=60)\n",
    ")"
   ]
  },
  {
   "cell_type": "code",
   "execution_count": null,
   "metadata": {},
   "outputs": [],
   "source": [
    "aisdk_test = TripExtractor(\n",
    "    aisdk_test, min_length=20, min_duration=timedelta(minutes=60)\n",
    ")"
   ]
  },
  {
   "cell_type": "code",
   "execution_count": null,
   "metadata": {},
   "outputs": [],
   "source": [
    "aisdk_train = aisdk_train.tc.to_traj_gdf(\n",
    "    agg={\"speed\": \"mean\", \"Name\": \"max\", \"nav_status\": \"max\", \"ship_type\": \"max\"}\n",
    ")\n",
    "aisdk_train = aisdk_train.rename(\n",
    "    columns={\n",
    "        \"speed_mean\": \"speed\",\n",
    "        \"Name_max\": \"name\",\n",
    "        \"nav_status_max\": \"nav_status\",\n",
    "        \"ship_type_max\": \"ship_type\",\n",
    "    }\n",
    ")\n",
    "\n",
    "aisdk_valid = aisdk_valid.tc.to_traj_gdf(\n",
    "    agg={\"speed\": \"mean\", \"Name\": \"max\", \"nav_status\": \"max\", \"ship_type\": \"max\"}\n",
    ")\n",
    "aisdk_valid = aisdk_valid.rename(\n",
    "    columns={\n",
    "        \"speed_mean\": \"speed\",\n",
    "        \"Name_max\": \"name\",\n",
    "        \"nav_status_max\": \"nav_status\",\n",
    "        \"ship_type_max\": \"ship_type\",\n",
    "    }\n",
    ")\n",
    "\n",
    "aisdk_test = aisdk_test.tc.to_traj_gdf(\n",
    "    agg={\"speed\": \"mean\", \"Name\": \"max\", \"nav_status\": \"max\", \"ship_type\": \"max\"}\n",
    ")\n",
    "aisdk_test = aisdk_test.rename(\n",
    "    columns={\n",
    "        \"speed_mean\": \"speed\",\n",
    "        \"Name_max\": \"name\",\n",
    "        \"nav_status_max\": \"nav_status\",\n",
    "        \"ship_type_max\": \"ship_type\",\n",
    "    }\n",
    ")\n",
    "\n",
    "print(\"Total number of train trajectories:\", len(aisdk_train.traj_id.unique()))\n",
    "print(\"Total number of valid trajectories:\", len(aisdk_valid.traj_id.unique()))\n",
    "print(\"Total number of test trajectories:\", len(aisdk_test.traj_id.unique()))"
   ]
  },
  {
   "cell_type": "markdown",
   "metadata": {},
   "source": [
    "##### Format ouput in ndarrays"
   ]
  },
  {
   "cell_type": "code",
   "execution_count": 35,
   "metadata": {},
   "outputs": [],
   "source": [
    "# aisdk_train = np.array(aisdk_train)\n",
    "# aisdk_train"
   ]
  },
  {
   "cell_type": "markdown",
   "metadata": {},
   "source": [
    "##### Output pickle files"
   ]
  },
  {
   "cell_type": "code",
   "execution_count": null,
   "metadata": {},
   "outputs": [],
   "source": [
    "for filename, filedict in zip(\n",
    "    [pkl_filename_train, pkl_filename_valid, pkl_filename_test],\n",
    "    [aisdk_train, aisdk_valid, aisdk_test],\n",
    "):\n",
    "    print(\"Writing to\", os.path.join(out_path, filename))\n",
    "    with open(os.path.join(out_path, filename), \"wb\") as f:\n",
    "        pickle.dump(filedict, f)"
   ]
  },
  {
   "cell_type": "markdown",
   "metadata": {},
   "source": [
    "##### Select vessel type"
   ]
  },
  {
   "cell_type": "code",
   "execution_count": 37,
   "metadata": {},
   "outputs": [],
   "source": [
    "# TYPE = \"Fishing\"\n",
    "# aisdk_type = aisdk.df[aisdk.df[\"ship_type\"] == TYPE]\n",
    "# print(\"Total number of vessels:\", len(aisdk.df.traj_id.unique()))\n",
    "# print(\"Total number of\", TYPE, \"vessels:\", len(aisdk_type.traj_id.unique()))"
   ]
  },
  {
   "cell_type": "code",
   "execution_count": 38,
   "metadata": {},
   "outputs": [],
   "source": [
    "# aisdk_type = np.array(aisdk_type)"
   ]
  }
 ],
 "metadata": {
  "kernelspec": {
   "display_name": "movingml",
   "language": "python",
   "name": "python3"
  },
  "language_info": {
   "codemirror_mode": {
    "name": "ipython",
    "version": 3
   },
   "file_extension": ".py",
   "mimetype": "text/x-python",
   "name": "python",
   "nbconvert_exporter": "python",
   "pygments_lexer": "ipython3",
   "version": "3.10.14"
  }
 },
 "nbformat": 4,
 "nbformat_minor": 2
}
