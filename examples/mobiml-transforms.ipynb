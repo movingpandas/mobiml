{
 "cells": [
  {
   "attachments": {},
   "cell_type": "markdown",
   "metadata": {},
   "source": [
    "# MobiML Transforms Demo"
   ]
  },
  {
   "cell_type": "markdown",
   "metadata": {},
   "source": [
    "## Environment"
   ]
  },
  {
   "cell_type": "markdown",
   "metadata": {},
   "source": [
    "This notebook has last been tested with the following environment: \n",
    "\n",
    "```\n",
    "(mobiml) grasera@N3DSS2206:~$ conda list\n",
    "# packages in environment at /home/grasera/anaconda3/envs/mobiml:\n",
    "#\n",
    "# Name                    Version                   Build  Channel\n",
    "_libgcc_mutex             0.1                 conda_forge    conda-forge\n",
    "_openmp_mutex             4.5                       2_gnu    conda-forge\n",
    "asttokens                 2.4.1              pyhd8ed1ab_0    conda-forge\n",
    "attrs                     23.2.0             pyh71513ae_0    conda-forge\n",
    "aws-c-auth                0.7.22              hbd3ac97_10    conda-forge\n",
    "aws-c-cal                 0.7.1                h87b94db_1    conda-forge\n",
    "aws-c-common              0.9.23               h4ab18f5_0    conda-forge\n",
    "aws-c-compression         0.2.18               he027950_7    conda-forge\n",
    "aws-c-event-stream        0.4.2               h7671281_15    conda-forge\n",
    "aws-c-http                0.8.2                he17ee6b_6    conda-forge\n",
    "aws-c-io                  0.14.10              h826b7d6_1    conda-forge\n",
    "aws-c-mqtt                0.10.4               hcd6a914_8    conda-forge\n",
    "aws-c-s3                  0.6.0                h365ddd8_2    conda-forge\n",
    "aws-c-sdkutils            0.1.16               he027950_3    conda-forge\n",
    "aws-checksums             0.1.18               he027950_7    conda-forge\n",
    "aws-crt-cpp               0.27.3               hda66527_2    conda-forge\n",
    "aws-sdk-cpp               1.11.329             h46c3b66_9    conda-forge\n",
    "azure-core-cpp            1.12.0               h830ed8b_0    conda-forge\n",
    "azure-identity-cpp        1.8.0                hdb0d106_1    conda-forge\n",
    "azure-storage-blobs-cpp   12.11.0              ha67cba7_1    conda-forge\n",
    "azure-storage-common-cpp  12.6.0               he3f277c_1    conda-forge\n",
    "black                     24.4.2          py310hff52083_0    conda-forge\n",
    "bleach                    6.1.0              pyhd8ed1ab_0    conda-forge\n",
    "blosc                     1.21.6               hef167b5_0    conda-forge\n",
    "bokeh                     2.4.3              pyhd8ed1ab_3    conda-forge\n",
    "branca                    0.7.2              pyhd8ed1ab_0    conda-forge\n",
    "brotli                    1.1.0                hd590300_1    conda-forge\n",
    "brotli-bin                1.1.0                hd590300_1    conda-forge\n",
    "brotli-python             1.1.0           py310hc6cd4ac_1    conda-forge\n",
    "bzip2                     1.0.8                h4bc722e_7    conda-forge\n",
    "c-ares                    1.32.2               h4bc722e_0    conda-forge\n",
    "ca-certificates           2024.7.4             hbcca054_0    conda-forge\n",
    "cairo                     1.18.0               hebfffa5_3    conda-forge\n",
    "cartopy                   0.23.0          py310hf9f9076_1    conda-forge\n",
    "certifi                   2024.7.4           pyhd8ed1ab_0    conda-forge\n",
    "cffi                      1.16.0          py310h2fee648_0    conda-forge\n",
    "cfitsio                   4.4.1                hf8ad068_0    conda-forge\n",
    "cftime                    1.6.4           py310h261611a_0    conda-forge\n",
    "charset-normalizer        3.3.2              pyhd8ed1ab_0    conda-forge\n",
    "click                     8.1.7           unix_pyh707e725_0    conda-forge\n",
    "click-plugins             1.1.1                      py_0    conda-forge\n",
    "cligj                     0.7.2              pyhd8ed1ab_1    conda-forge\n",
    "cloudpickle               3.0.0              pyhd8ed1ab_0    conda-forge\n",
    "colorama                  0.4.6              pyhd8ed1ab_0    conda-forge\n",
    "colorcet                  3.1.0              pyhd8ed1ab_0    conda-forge\n",
    "comm                      0.2.2              pyhd8ed1ab_0    conda-forge\n",
    "contourpy                 1.2.1           py310hd41b1e2_0    conda-forge\n",
    "coverage                  7.6.0           py310h5b4e0ec_0    conda-forge\n",
    "cryptography              42.0.8                   pypi_0    pypi\n",
    "cycler                    0.12.1             pyhd8ed1ab_0    conda-forge\n",
    "dask-core                 2024.7.0           pyhd8ed1ab_0    conda-forge\n",
    "datashader                0.16.3             pyhd8ed1ab_0    conda-forge\n",
    "debugpy                   1.8.5           py310hea249c9_0    conda-forge\n",
    "decorator                 5.1.1              pyhd8ed1ab_0    conda-forge\n",
    "exceptiongroup            1.2.2              pyhd8ed1ab_0    conda-forge\n",
    "executing                 2.0.1              pyhd8ed1ab_0    conda-forge\n",
    "expat                     2.6.2                h59595ed_0    conda-forge\n",
    "filelock                  3.15.4                   pypi_0    pypi\n",
    "fiona                     1.9.6           py310h033d26a_3    conda-forge\n",
    "flwr                      1.10.0                   pypi_0    pypi\n",
    "fmt                       10.2.1               h00ab1b0_0    conda-forge\n",
    "folium                    0.17.0             pyhd8ed1ab_0    conda-forge\n",
    "font-ttf-dejavu-sans-mono 2.37                 hab24e00_0    conda-forge\n",
    "font-ttf-inconsolata      3.000                h77eed37_0    conda-forge\n",
    "font-ttf-source-code-pro  2.038                h77eed37_0    conda-forge\n",
    "font-ttf-ubuntu           0.83                 h77eed37_2    conda-forge\n",
    "fontconfig                2.14.2               h14ed4e7_0    conda-forge\n",
    "fonts-conda-ecosystem     1                             0    conda-forge\n",
    "fonts-conda-forge         1                             0    conda-forge\n",
    "fonttools                 4.53.1          py310h5b4e0ec_0    conda-forge\n",
    "freetype                  2.12.1               h267a509_2    conda-forge\n",
    "freexl                    2.0.0                h743c826_0    conda-forge\n",
    "fsspec                    2024.6.1           pyhff2d567_0    conda-forge\n",
    "gdal                      3.9.1           py310hb8ea937_2    conda-forge\n",
    "geographiclib             2.0                pyhd8ed1ab_0    conda-forge\n",
    "geopandas                 1.0.1              pyhd8ed1ab_0    conda-forge\n",
    "geopandas-base            1.0.1              pyha770c72_0    conda-forge\n",
    "geopy                     2.4.1              pyhd8ed1ab_1    conda-forge\n",
    "geos                      3.12.1               h59595ed_0    conda-forge\n",
    "geotiff                   1.7.3                hf7fa9e8_1    conda-forge\n",
    "geoviews                  1.9.6              pyhd8ed1ab_0    conda-forge\n",
    "geoviews-core             1.9.6              pyha770c72_0    conda-forge\n",
    "giflib                    5.2.2                hd590300_0    conda-forge\n",
    "grpcio                    1.64.1                   pypi_0    pypi\n",
    "gsl                       2.7                  he838d99_0    conda-forge\n",
    "h2                        4.1.0              pyhd8ed1ab_0    conda-forge\n",
    "h3-py                     3.7.7           py310hc6cd4ac_0    conda-forge\n",
    "h3pandas                  0.2.6              pyhd8ed1ab_0    conda-forge\n",
    "hdf4                      4.2.15               h2a13503_7    conda-forge\n",
    "hdf5                      1.14.3          nompi_hdf9ad27_105    conda-forge\n",
    "holoviews                 1.17.1             pyhd8ed1ab_0    conda-forge\n",
    "hpack                     4.0.0              pyh9f0ad1d_0    conda-forge\n",
    "hvplot                    0.10.0             pyhd8ed1ab_0    conda-forge\n",
    "hyperframe                6.0.1              pyhd8ed1ab_0    conda-forge\n",
    "icu                       75.1                 he02047a_0    conda-forge\n",
    "idna                      3.7                pyhd8ed1ab_0    conda-forge\n",
    "importlib-metadata        8.0.0              pyha770c72_0    conda-forge\n",
    "importlib_metadata        8.0.0                hd8ed1ab_0    conda-forge\n",
    "iniconfig                 2.0.0              pyhd8ed1ab_0    conda-forge\n",
    "ipykernel                 6.29.5             pyh3099207_0    conda-forge\n",
    "ipython                   8.26.0             pyh707e725_0    conda-forge\n",
    "ipywidgets                8.1.3              pyhd8ed1ab_0    conda-forge\n",
    "iterators                 0.0.2                    pypi_0    pypi\n",
    "jedi                      0.19.1             pyhd8ed1ab_0    conda-forge\n",
    "jinja2                    3.1.4              pyhd8ed1ab_0    conda-forge\n",
    "joblib                    1.4.2              pyhd8ed1ab_0    conda-forge\n",
    "json-c                    0.17                 h1220068_1    conda-forge\n",
    "jupyter_bokeh             3.0.5              pyhd8ed1ab_0    conda-forge\n",
    "jupyter_client            8.6.2              pyhd8ed1ab_0    conda-forge\n",
    "jupyter_core              5.7.2           py310hff52083_0    conda-forge\n",
    "jupyterlab_widgets        3.0.11             pyhd8ed1ab_0    conda-forge\n",
    "kealib                    1.5.3                hee9dde6_1    conda-forge\n",
    "keyutils                  1.6.1                h166bdaf_0    conda-forge\n",
    "kiwisolver                1.4.5           py310hd41b1e2_1    conda-forge\n",
    "krb5                      1.21.3               h659f571_0    conda-forge\n",
    "lcms2                     2.16                 hb7c19ff_0    conda-forge\n",
    "ld_impl_linux-64          2.40                 hf3520f5_7    conda-forge\n",
    "lerc                      4.0.0                h27087fc_0    conda-forge\n",
    "libabseil                 20240116.2      cxx17_he02047a_1    conda-forge\n",
    "libaec                    1.1.3                h59595ed_0    conda-forge\n",
    "libarchive                3.7.4                hfca40fe_0    conda-forge\n",
    "libblas                   3.9.0           22_linux64_openblas    conda-forge\n",
    "libbrotlicommon           1.1.0                hd590300_1    conda-forge\n",
    "libbrotlidec              1.1.0                hd590300_1    conda-forge\n",
    "libbrotlienc              1.1.0                hd590300_1    conda-forge\n",
    "libcblas                  3.9.0           22_linux64_openblas    conda-forge\n",
    "libcrc32c                 1.1.2                h9c3ff4c_0    conda-forge\n",
    "libcurl                   8.8.0                hca28451_1    conda-forge\n",
    "libdeflate                1.20                 hd590300_0    conda-forge\n",
    "libedit                   3.1.20191231         he28a2e2_2    conda-forge\n",
    "libev                     4.33                 hd590300_2    conda-forge\n",
    "libexpat                  2.6.2                h59595ed_0    conda-forge\n",
    "libffi                    3.4.2                h7f98852_5    conda-forge\n",
    "libgcc-ng                 14.1.0               h77fa898_0    conda-forge\n",
    "libgdal                   3.9.1                he176cbe_2    conda-forge\n",
    "libgfortran-ng            14.1.0               h69a702a_0    conda-forge\n",
    "libgfortran5              14.1.0               hc5f4f2c_0    conda-forge\n",
    "libglib                   2.80.3               h8a4344b_1    conda-forge\n",
    "libgomp                   14.1.0               h77fa898_0    conda-forge\n",
    "libgoogle-cloud           2.26.0               h26d7fe4_0    conda-forge\n",
    "libgoogle-cloud-storage   2.26.0               ha262f82_0    conda-forge\n",
    "libgrpc                   1.62.2               h15f2491_0    conda-forge\n",
    "libiconv                  1.17                 hd590300_2    conda-forge\n",
    "libjpeg-turbo             3.0.0                hd590300_1    conda-forge\n",
    "libkml                    1.3.0             hbbc8833_1020    conda-forge\n",
    "liblapack                 3.9.0           22_linux64_openblas    conda-forge\n",
    "libllvm14                 14.0.6               hcd5def8_4    conda-forge\n",
    "libnetcdf                 4.9.2           nompi_h135f659_114    conda-forge\n",
    "libnghttp2                1.58.0               h47da74e_1    conda-forge\n",
    "libnsl                    2.0.1                hd590300_0    conda-forge\n",
    "libopenblas               0.3.27          pthreads_hac2b453_1    conda-forge\n",
    "libpng                    1.6.43               h2797004_0    conda-forge\n",
    "libpq                     16.3                 ha72fbe1_0    conda-forge\n",
    "libprotobuf               4.25.3               h08a7969_0    conda-forge\n",
    "libre2-11                 2023.09.01           h5a48ba9_2    conda-forge\n",
    "librttopo                 1.1.0               h8917695_15    conda-forge\n",
    "libsodium                 1.0.18               h36c2ea0_1    conda-forge\n",
    "libspatialindex           2.0.0                he02047a_0    conda-forge\n",
    "libspatialite             5.1.0                h6fbd9c4_7    conda-forge\n",
    "libsqlite                 3.46.0               hde9e2c9_0    conda-forge\n",
    "libssh2                   1.11.0               h0841786_0    conda-forge\n",
    "libstdcxx-ng              14.1.0               hc0a3c3a_0    conda-forge\n",
    "libtiff                   4.6.0                h1dd3fc0_3    conda-forge\n",
    "libuuid                   2.38.1               h0b41bf4_0    conda-forge\n",
    "libwebp-base              1.4.0                hd590300_0    conda-forge\n",
    "libxcb                    1.16                 hd590300_0    conda-forge\n",
    "libxcrypt                 4.4.36               hd590300_1    conda-forge\n",
    "libxml2                   2.12.7               he7c6b58_4    conda-forge\n",
    "libzip                    1.10.1               h2629f0a_3    conda-forge\n",
    "libzlib                   1.3.1                h4ab18f5_1    conda-forge\n",
    "llvmlite                  0.43.0          py310h4c7c693_0    conda-forge\n",
    "locket                    1.0.0              pyhd8ed1ab_0    conda-forge\n",
    "lz4-c                     1.9.4                hcb278e6_0    conda-forge\n",
    "lzo                       2.10              hd590300_1001    conda-forge\n",
    "mapclassify               2.6.1              pyhd8ed1ab_0    conda-forge\n",
    "markdown                  3.6                pyhd8ed1ab_0    conda-forge\n",
    "markdown-it-py            3.0.0                    pypi_0    pypi\n",
    "markupsafe                2.1.5           py310h2372a71_0    conda-forge\n",
    "matplotlib-base           3.9.1           py310h0b1de36_0    conda-forge\n",
    "matplotlib-inline         0.1.7              pyhd8ed1ab_0    conda-forge\n",
    "mdurl                     0.1.2                    pypi_0    pypi\n",
    "meos                      1.1.1                h8518783_0    conda-forge\n",
    "minizip                   4.0.7                h401b404_0    conda-forge\n",
    "movingpandas              0.18.1             pyhd8ed1ab_0    conda-forge\n",
    "mpmath                    1.3.0                    pypi_0    pypi\n",
    "multipledispatch          0.6.0                      py_0    conda-forge\n",
    "munkres                   1.1.4              pyh9f0ad1d_0    conda-forge\n",
    "mypy_extensions           1.0.0              pyha770c72_0    conda-forge\n",
    "ncurses                   6.5                  h59595ed_0    conda-forge\n",
    "nest-asyncio              1.6.0              pyhd8ed1ab_0    conda-forge\n",
    "netcdf4                   1.7.1           nompi_py310hf3005e6_101    conda-forge\n",
    "networkx                  3.3                pyhd8ed1ab_1    conda-forge\n",
    "nspr                      4.35                 h27087fc_0    conda-forge\n",
    "nss                       3.102                h593d115_0    conda-forge\n",
    "numba                     0.60.0          py310h5dc88bb_0    conda-forge\n",
    "numpy                     1.26.4                   pypi_0    pypi\n",
    "nvidia-cublas-cu12        12.1.3.1                 pypi_0    pypi\n",
    "nvidia-cuda-cupti-cu12    12.1.105                 pypi_0    pypi\n",
    "nvidia-cuda-nvrtc-cu12    12.1.105                 pypi_0    pypi\n",
    "nvidia-cuda-runtime-cu12  12.1.105                 pypi_0    pypi\n",
    "nvidia-cudnn-cu12         8.9.2.26                 pypi_0    pypi\n",
    "nvidia-cufft-cu12         11.0.2.54                pypi_0    pypi\n",
    "nvidia-curand-cu12        10.3.2.106               pypi_0    pypi\n",
    "nvidia-cusolver-cu12      11.4.5.107               pypi_0    pypi\n",
    "nvidia-cusparse-cu12      12.1.0.106               pypi_0    pypi\n",
    "nvidia-nccl-cu12          2.20.5                   pypi_0    pypi\n",
    "nvidia-nvjitlink-cu12     12.5.82                  pypi_0    pypi\n",
    "nvidia-nvtx-cu12          12.1.105                 pypi_0    pypi\n",
    "opacus                    1.4.1                    pypi_0    pypi\n",
    "openjpeg                  2.5.2                h488ebb8_0    conda-forge\n",
    "openssl                   3.3.1                h4bc722e_2    conda-forge\n",
    "opt-einsum                3.3.0                    pypi_0    pypi\n",
    "packaging                 24.1               pyhd8ed1ab_0    conda-forge\n",
    "pandas                    2.2.2           py310hf9f9076_1    conda-forge\n",
    "panel                     0.14.4             pyhd8ed1ab_0    conda-forge\n",
    "param                     1.13.0             pyh1a96a4e_0    conda-forge\n",
    "parso                     0.8.4              pyhd8ed1ab_0    conda-forge\n",
    "partd                     1.4.2              pyhd8ed1ab_0    conda-forge\n",
    "pathspec                  0.12.1             pyhd8ed1ab_0    conda-forge\n",
    "pcre2                     10.44                h0f59acf_0    conda-forge\n",
    "pexpect                   4.9.0              pyhd8ed1ab_0    conda-forge\n",
    "pickleshare               0.7.5                   py_1003    conda-forge\n",
    "pillow                    10.4.0          py310hebfe307_0    conda-forge\n",
    "pip                       24.0               pyhd8ed1ab_0    conda-forge\n",
    "pixman                    0.43.2               h59595ed_0    conda-forge\n",
    "platformdirs              4.2.2              pyhd8ed1ab_0    conda-forge\n",
    "pluggy                    1.5.0              pyhd8ed1ab_0    conda-forge\n",
    "poppler                   24.04.0              hb6cd0d7_0    conda-forge\n",
    "poppler-data              0.4.12               hd8ed1ab_0    conda-forge\n",
    "postgresql                16.3                 h8e811e2_0    conda-forge\n",
    "proj                      9.4.0                hb784bbd_2    conda-forge\n",
    "prompt-toolkit            3.0.47             pyha770c72_0    conda-forge\n",
    "protobuf                  4.25.3                   pypi_0    pypi\n",
    "psutil                    6.0.0           py310hc51659f_0    conda-forge\n",
    "pthread-stubs             0.4               h36c2ea0_1001    conda-forge\n",
    "ptyprocess                0.7.0              pyhd3deb0d_0    conda-forge\n",
    "pure_eval                 0.2.2              pyhd8ed1ab_0    conda-forge\n",
    "pyarrow                   17.0.0                   pypi_0    pypi\n",
    "pycparser                 2.22               pyhd8ed1ab_0    conda-forge\n",
    "pycryptodome              3.20.0                   pypi_0    pypi\n",
    "pyct                      0.5.0              pyhd8ed1ab_0    conda-forge\n",
    "pygments                  2.18.0             pyhd8ed1ab_0    conda-forge\n",
    "pymeos                    1.1.3              pyhd8ed1ab_0    conda-forge\n",
    "pymeos-cffi               1.1.1           py310h2372a71_0    conda-forge\n",
    "pyogrio                   0.9.0           py310h3d73142_0    conda-forge\n",
    "pyparsing                 3.1.2              pyhd8ed1ab_0    conda-forge\n",
    "pyproj                    3.6.1           py310hf666db6_7    conda-forge\n",
    "pyshp                     2.3.1              pyhd8ed1ab_0    conda-forge\n",
    "pysocks                   1.7.1              pyha2e5f31_6    conda-forge\n",
    "pytest                    8.2.2              pyhd8ed1ab_0    conda-forge\n",
    "pytest-cov                5.0.0              pyhd8ed1ab_0    conda-forge\n",
    "python                    3.10.14         hd12c33a_0_cpython    conda-forge\n",
    "python-dateutil           2.9.0              pyhd8ed1ab_0    conda-forge\n",
    "python-tzdata             2024.1             pyhd8ed1ab_0    conda-forge\n",
    "python_abi                3.10                    4_cp310    conda-forge\n",
    "pytz                      2024.1             pyhd8ed1ab_0    conda-forge\n",
    "pyviz_comms               3.0.2              pyhd8ed1ab_1    conda-forge\n",
    "pyyaml                    6.0.1           py310h2372a71_1    conda-forge\n",
    "pyzmq                     26.1.1          py310h7d2b5bf_0    conda-forge\n",
    "qhull                     2020.2               h434a139_5    conda-forge\n",
    "re2                       2023.09.01           h7f4b329_2    conda-forge\n",
    "readline                  8.2                  h8228510_1    conda-forge\n",
    "requests                  2.32.3             pyhd8ed1ab_0    conda-forge\n",
    "rich                      13.7.1                   pypi_0    pypi\n",
    "rtree                     1.3.0           py310h8dc1cec_1    conda-forge\n",
    "s2n                       1.4.17               he19d79f_0    conda-forge\n",
    "scikit-learn              1.5.1           py310h146d792_0    conda-forge\n",
    "scipy                     1.14.0          py310h93e2701_1    conda-forge\n",
    "setuptools                70.3.0             pyhd8ed1ab_0    conda-forge\n",
    "shapely                   2.0.4           py310hec8f0c1_1    conda-forge\n",
    "shellingham               1.5.4                    pypi_0    pypi\n",
    "six                       1.16.0             pyh6c4a22f_0    conda-forge\n",
    "snappy                    1.2.1                ha2e4443_0    conda-forge\n",
    "spdlog                    1.13.0               hd2e6256_0    conda-forge\n",
    "sqlite                    3.46.0               h6d4b2fc_0    conda-forge\n",
    "stack_data                0.6.2              pyhd8ed1ab_0    conda-forge\n",
    "sympy                     1.13.0                   pypi_0    pypi\n",
    "threadpoolctl             3.5.0              pyhc1e730c_0    conda-forge\n",
    "tiledb                    2.24.2               hc55ee95_2    conda-forge\n",
    "tk                        8.6.13          noxft_h4845f30_101    conda-forge\n",
    "toml                      0.10.2             pyhd8ed1ab_0    conda-forge\n",
    "tomli                     2.0.1              pyhd8ed1ab_0    conda-forge\n",
    "tomli-w                   1.0.0                    pypi_0    pypi\n",
    "toolz                     0.12.1             pyhd8ed1ab_0    conda-forge\n",
    "torch                     2.3.1                    pypi_0    pypi\n",
    "tornado                   6.4.1           py310hc51659f_0    conda-forge\n",
    "tqdm                      4.66.4             pyhd8ed1ab_0    conda-forge\n",
    "traitlets                 5.14.3             pyhd8ed1ab_0    conda-forge\n",
    "triton                    2.3.1                    pypi_0    pypi\n",
    "typer                     0.9.4                    pypi_0    pypi\n",
    "typing-extensions         4.12.2               hd8ed1ab_0    conda-forge\n",
    "typing_extensions         4.12.2             pyha770c72_0    conda-forge\n",
    "tzcode                    2024a                h3f72095_0    conda-forge\n",
    "tzdata                    2024a                h0c530f3_0    conda-forge\n",
    "unicodedata2              15.1.0          py310h2372a71_0    conda-forge\n",
    "uriparser                 0.9.8                hac33072_0    conda-forge\n",
    "urllib3                   2.2.2              pyhd8ed1ab_1    conda-forge\n",
    "wcwidth                   0.2.13             pyhd8ed1ab_0    conda-forge\n",
    "webencodings              0.5.1              pyhd8ed1ab_2    conda-forge\n",
    "wheel                     0.43.0             pyhd8ed1ab_1    conda-forge\n",
    "widgetsnbextension        4.0.11             pyhd8ed1ab_0    conda-forge\n",
    "xarray                    2024.6.0           pyhd8ed1ab_1    conda-forge\n",
    "xerces-c                  3.2.5                h666cd97_1    conda-forge\n",
    "xorg-kbproto              1.0.7             h7f98852_1002    conda-forge\n",
    "xorg-libice               1.1.1                hd590300_0    conda-forge\n",
    "xorg-libsm                1.2.4                h7391055_0    conda-forge\n",
    "xorg-libx11               1.8.9                hb711507_1    conda-forge\n",
    "xorg-libxau               1.0.11               hd590300_0    conda-forge\n",
    "xorg-libxdmcp             1.1.3                h7f98852_0    conda-forge\n",
    "xorg-libxext              1.3.4                h0b41bf4_2    conda-forge\n",
    "xorg-libxrender           0.9.11               hd590300_0    conda-forge\n",
    "xorg-renderproto          0.11.1            h7f98852_1002    conda-forge\n",
    "xorg-xextproto            7.3.0             h0b41bf4_1003    conda-forge\n",
    "xorg-xproto               7.0.31            h7f98852_1007    conda-forge\n",
    "xyzservices               2024.6.0           pyhd8ed1ab_0    conda-forge\n",
    "xz                        5.2.6                h166bdaf_0    conda-forge\n",
    "yaml                      0.2.5                h7f98852_2    conda-forge\n",
    "zeromq                    4.3.5                h75354e8_4    conda-forge\n",
    "zipp                      3.19.2             pyhd8ed1ab_0    conda-forge\n",
    "zlib                      1.3.1                h4ab18f5_1    conda-forge\n",
    "zstandard                 0.23.0          py310h64cae3c_0    conda-forge\n",
    "zstd                      1.5.6                ha6fb4c9_0    conda-forge\n",
    "```"
   ]
  },
  {
   "cell_type": "markdown",
   "metadata": {},
   "source": [
    "## Imports"
   ]
  },
  {
   "cell_type": "code",
   "execution_count": null,
   "metadata": {
    "slideshow": {
     "slide_type": "slide"
    }
   },
   "outputs": [],
   "source": [
    "import os\n",
    "import pandas as pd\n",
    "import geopandas as gpd\n",
    "import pickle\n",
    "from datetime import datetime, timedelta\n",
    "\n",
    "import sys\n",
    "sys.path.append(\"..\")\n",
    "\n",
    "from mobiml.utils import convert_wgs_to_utm\n",
    "from mobiml.datasets import AISDK, PreprocessedAISDK, MOVER_ID\n",
    "from mobiml.transforms import TrajectoryAggregator, TripExtractor\n",
    "from mobiml.preprocessing import StationaryClientExtractor"
   ]
  },
  {
   "cell_type": "markdown",
   "metadata": {},
   "source": [
    "## ODAggregator \n",
    "\n",
    "Aggregate the PortoTaxis in a hex grid with hourly bins"
   ]
  },
  {
   "cell_type": "code",
   "execution_count": null,
   "metadata": {},
   "outputs": [],
   "source": [
    "from mobiml.datasets import PortoTaxis\n",
    "from mobiml.transforms.od_aggregator import ODAggregator"
   ]
  },
  {
   "cell_type": "code",
   "execution_count": null,
   "metadata": {},
   "outputs": [],
   "source": [
    "taxis = PortoTaxis(r\"../examples/data/train.csv\", nrows=10000)"
   ]
  },
  {
   "cell_type": "code",
   "execution_count": null,
   "metadata": {},
   "outputs": [],
   "source": [
    "od_h3 = ODAggregator(taxis).get_od_for_h3(7, freq='1h')\n",
    "od_h3.head()"
   ]
  },
  {
   "attachments": {},
   "cell_type": "markdown",
   "metadata": {},
   "source": [
    "## StationaryClientExtractor\n",
    "\n",
    "Extracting AIS records around specific locations\n"
   ]
  },
  {
   "cell_type": "code",
   "execution_count": null,
   "metadata": {},
   "outputs": [],
   "source": [
    "antennas = ['Point (11.96524 57.70730)', 'Point (11.63979 57.71941)', 'Point (11.78460 57.57255)']\n",
    "antenna_radius_meters = 25000 \n",
    "epsg_code = convert_wgs_to_utm(11.96524, 57.70730)\n",
    "\n",
    "def create_client_gdf(clients, client_radius_meters) -> gpd.GeoDataFrame:\n",
    "    ids =  [{'client': i} for i in range(len(clients))]\n",
    "    df = pd.DataFrame(ids)\n",
    "    df['geometry'] = gpd.GeoSeries.from_wkt(clients)\n",
    "    gdf = gpd.GeoDataFrame(df, geometry=df.geometry, crs=4326)\n",
    "    gdf = gdf.to_crs(epsg_code)\n",
    "    gdf['geometry'] = gdf.buffer(client_radius_meters)\n",
    "    return gdf.to_crs(4326)\n",
    "\n",
    "buffered_antennas = create_client_gdf(antennas, antenna_radius_meters)\n",
    "buffered_antennas.explore()"
   ]
  },
  {
   "cell_type": "code",
   "execution_count": null,
   "metadata": {},
   "outputs": [],
   "source": [
    "min_lon, min_lat, max_lon, max_lat = buffered_antennas.geometry.total_bounds\n",
    "aisdk = AISDK('./data/aisdk_20180208_sample.zip', min_lon, min_lat, max_lon, max_lat)\n",
    "aisdk.plot()"
   ]
  },
  {
   "cell_type": "code",
   "execution_count": null,
   "metadata": {},
   "outputs": [],
   "source": [
    "print(f\"{datetime.now()} Extracting client data ...\")\n",
    "client_data = StationaryClientExtractor(aisdk).extract(buffered_antennas)"
   ]
  },
  {
   "cell_type": "code",
   "execution_count": null,
   "metadata": {},
   "outputs": [],
   "source": [
    "out_path = './data/ais-extracted-stationary.feather'\n",
    "print(f\"{datetime.now()} Writing output to {out_path}\")\n",
    "client_data.to_feather(out_path)"
   ]
  },
  {
   "cell_type": "markdown",
   "metadata": {},
   "source": [
    "### Reading extracted AIS records from file"
   ]
  },
  {
   "cell_type": "code",
   "execution_count": null,
   "metadata": {},
   "outputs": [],
   "source": [
    "aisdk = PreprocessedAISDK(out_path)\n",
    "aisdk.df"
   ]
  },
  {
   "cell_type": "code",
   "execution_count": null,
   "metadata": {},
   "outputs": [],
   "source": [
    "trajs = aisdk.to_trajs()\n",
    "trajs"
   ]
  },
  {
   "cell_type": "code",
   "execution_count": null,
   "metadata": {},
   "outputs": [],
   "source": [
    "aisdk.plot()"
   ]
  },
  {
   "cell_type": "markdown",
   "metadata": {},
   "source": [
    "## TripExtractor & TrajectoryAggregator\n",
    "\n",
    "Extract trips and compute features"
   ]
  },
  {
   "cell_type": "code",
   "execution_count": null,
   "metadata": {},
   "outputs": [],
   "source": [
    "h3_resolution = 8\n",
    "\n",
    "def create_vessel_list(gdf):\n",
    "    print(f\"{datetime.now()} Creating vessel list ...\")\n",
    "    return gdf.groupby(MOVER_ID)[['ship_type','Name']].agg(pd.Series.mode)\n",
    "\n",
    "\n",
    "def pickle_vessels(vessels, out_path):\n",
    "    print(f\"{datetime.now()} Writing vessels to {out_path} ...\")\n",
    "    with open(out_path, 'wb') as out_file:\n",
    "        pickle.dump(vessels, out_file)\n",
    "\n",
    "\n",
    "def pickle_trajectories(trajs, out_path):\n",
    "    print(f\"{datetime.now()} Writing trajectories to {out_path} ...\")\n",
    "    with open(out_path, 'wb') as out_file:\n",
    "        pickle.dump(trajs, out_file)\n",
    "    return out_path"
   ]
  },
  {
   "cell_type": "code",
   "execution_count": null,
   "metadata": {},
   "outputs": [],
   "source": [
    "print(f\"{datetime.now()} Loading data from {out_path} ...\")\n",
    "gdf =  gpd.read_feather(out_path)\n",
    "vessels = create_vessel_list(gdf)"
   ]
  },
  {
   "cell_type": "code",
   "execution_count": null,
   "metadata": {},
   "outputs": [],
   "source": [
    "print(f\"{datetime.now()} Extracting trips ...\")\n",
    "trajs = TripExtractor(gdf).get_trips(gap_duration=timedelta(minutes=60))  # create_trajs(gdf)"
   ]
  },
  {
   "cell_type": "code",
   "execution_count": null,
   "metadata": {},
   "outputs": [],
   "source": [
    "print(f\"{datetime.now()} Computing trajectory features ...\")\n",
    "trajs = TrajectoryAggregator(trajs, vessels).aggregate_trajs(h3_resolution)   "
   ]
  },
  {
   "cell_type": "code",
   "execution_count": null,
   "metadata": {},
   "outputs": [],
   "source": [
    "traj_path = 'data/ais-extracted-trajectories.pickle' \n",
    "pickle_trajectories(trajs, traj_path)\n",
    "pickle_vessels(vessels, 'data/ais-extracted-vessels.pickle')"
   ]
  },
  {
   "cell_type": "markdown",
   "metadata": {},
   "source": [
    "## AISLoader & SummarizedAISTrajectoryClassifier\n",
    "\n",
    "Train & evaluate trajectory classifier"
   ]
  },
  {
   "cell_type": "code",
   "execution_count": null,
   "metadata": {},
   "outputs": [],
   "source": [
    "import sys\n",
    "sys.path.append(\"..\")\n",
    "from mobiml.models.ais_trajectory_classifier import AISLoader\n",
    "from mobiml.models import SummarizedAISTrajectoryClassifier\n",
    "from sklearn.metrics import log_loss"
   ]
  },
  {
   "cell_type": "code",
   "execution_count": null,
   "metadata": {},
   "outputs": [],
   "source": [
    "vessel_types = ['Cargo', 'Passenger', 'Tanker']\n",
    "features = ['speed_max', 'speed_median', 'x_start', 'y_start', 'x_end', 'y_end', 'length']"
   ]
  },
  {
   "cell_type": "code",
   "execution_count": null,
   "metadata": {},
   "outputs": [],
   "source": [
    "stationary = AISLoader(vessel_types, features, 0.33, path='data/trajs-stationary.pickle')\n",
    "(X_train, y_train), (X_test, y_test) = stationary.load()\n",
    "print(\"Train: \", X_train.shape)\n",
    "print(\"Test: \", X_test.shape)"
   ]
  },
  {
   "cell_type": "code",
   "execution_count": null,
   "metadata": {},
   "outputs": [],
   "source": [
    "model = SummarizedAISTrajectoryClassifier(vessel_types, len(features))\n",
    "model.fit(X_train, y_train)"
   ]
  },
  {
   "cell_type": "code",
   "execution_count": null,
   "metadata": {},
   "outputs": [],
   "source": [
    "predicted = model.predict_proba(X_test)\n",
    "predicted"
   ]
  },
  {
   "cell_type": "code",
   "execution_count": null,
   "metadata": {},
   "outputs": [],
   "source": [
    "loss = log_loss(y_test, predicted, labels=vessel_types)\n",
    "accuracy = model.score(X_test, y_test)\n",
    "print(\"Accuracy\", accuracy)\n",
    "print(\"Loss\", loss)"
   ]
  },
  {
   "cell_type": "code",
   "execution_count": null,
   "metadata": {},
   "outputs": [],
   "source": []
  }
 ],
 "metadata": {
  "kernelspec": {
   "display_name": "mobiml",
   "language": "python",
   "name": "python3"
  },
  "language_info": {
   "codemirror_mode": {
    "name": "ipython",
    "version": 3
   },
   "file_extension": ".py",
   "mimetype": "text/x-python",
   "name": "python",
   "nbconvert_exporter": "python",
   "pygments_lexer": "ipython3",
   "version": "3.10.14"
  },
  "orig_nbformat": 4
 },
 "nbformat": 4,
 "nbformat_minor": 2
}
