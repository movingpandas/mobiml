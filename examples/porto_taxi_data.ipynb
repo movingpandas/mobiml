{
 "cells": [
  {
   "cell_type": "markdown",
   "metadata": {},
   "source": [
    "# Porto Taxi Data Preprocessing"
   ]
  },
  {
   "cell_type": "code",
   "execution_count": null,
   "metadata": {},
   "outputs": [],
   "source": [
    "import holoviews as hv\n",
    "from hvplot import pandas\n",
    "from holoviews import opts\n",
    "from holoviews.element import tiles\n",
    "\n",
    "import sys\n",
    "sys.path.append(\"..\")\n",
    "from mobiml.datasets import PortoTaxis\n",
    "import pandas as pd\n",
    "import geopandas as gpd\n",
    "import movingpandas as mpd\n",
    "import h3\n",
    "from shapely.geometry import Polygon\n",
    "from bokeh.io import output_notebook\n",
    "\n",
    "output_notebook()\n",
    "\n",
    "opts.defaults(opts.Overlay(active_tools=['wheel_zoom']))\n",
    "BG_TILES = tiles.CartoLight()"
   ]
  },
  {
   "cell_type": "markdown",
   "metadata": {},
   "source": [
    "#### Approach 1: data for 1 day (possible to automate)"
   ]
  },
  {
   "cell_type": "code",
   "execution_count": null,
   "metadata": {},
   "outputs": [],
   "source": [
    "#load all taxi data records\n",
    "taxis_all = pd.read_csv(r\"../examples/data/train.csv\") #change to your file setup"
   ]
  },
  {
   "cell_type": "code",
   "execution_count": null,
   "metadata": {},
   "outputs": [],
   "source": [
    "#create new col \"date\" with human-readable date in GMT\n",
    "taxis_all[\"date\"] = pd.to_datetime(taxis_all[\"TIMESTAMP\"], utc=True, unit='s', origin='unix')\n",
    "taxis_all.head(2)"
   ]
  },
  {
   "cell_type": "code",
   "execution_count": null,
   "metadata": {},
   "outputs": [],
   "source": [
    "#create cols to break down \"date\"\n",
    "taxis_all[\"year\"] = taxis_all[\"date\"].dt.year\n",
    "taxis_all[\"month\"] = taxis_all[\"date\"].dt.month\n",
    "taxis_all[\"day\"] = taxis_all[\"date\"].dt.day\n",
    "taxis_all[\"hour\"] = taxis_all[\"date\"].dt.hour\n",
    "taxis_all[\"minute\"] = taxis_all[\"date\"].dt.minute\n",
    "taxis_all[\"second\"] = taxis_all[\"date\"].dt.second"
   ]
  },
  {
   "cell_type": "code",
   "execution_count": null,
   "metadata": {},
   "outputs": [],
   "source": [
    "taxis_all = taxis_all.set_index(\"date\")"
   ]
  },
  {
   "cell_type": "code",
   "execution_count": null,
   "metadata": {},
   "outputs": [],
   "source": [
    "#https://stackoverflow.com/a/67604265\n",
    "\n",
    "#create list with df entries for 365 days\n",
    "results = [part for _, part in taxis_all.groupby(pd.Grouper(freq=\"1D\"))]"
   ]
  },
  {
   "cell_type": "code",
   "execution_count": null,
   "metadata": {},
   "outputs": [],
   "source": [
    "#apply PortoTaxis for 1 day (01.07.2013)\n",
    "taxi_2013_7_1 = PortoTaxis(results[0].reset_index())\n",
    "taxi_2013_7_1.df.head()"
   ]
  },
  {
   "cell_type": "code",
   "execution_count": null,
   "metadata": {},
   "outputs": [],
   "source": [
    "taxi_2013_7_1.to_trajs()"
   ]
  },
  {
   "cell_type": "code",
   "execution_count": null,
   "metadata": {},
   "outputs": [],
   "source": [
    "#create gdf and \"x\" and \"y\" cols from \"geometry\" \n",
    "taxi_gdf = taxi_2013_7_1.to_gdf()\n",
    "taxi_gdf[\"x\"] = taxi_gdf.geometry.x\n",
    "taxi_gdf[\"y\"] = taxi_gdf.geometry.y\n",
    "taxi_gdf.head(2)"
   ]
  },
  {
   "cell_type": "code",
   "execution_count": null,
   "metadata": {},
   "outputs": [],
   "source": [
    "#https://medium.com/@jesse.b.nestler/how-to-convert-h3-cell-boundaries-to-shapely-polygons-in-python-f7558add2f63\n",
    "#x=long, y=lat\n",
    "\n",
    "#identify h3 cell\n",
    "res = 7 \n",
    "col = f\"H3_{res}\"\n",
    "taxi_gdf[col] = taxi_gdf.apply(lambda row: str(h3.geo_to_h3(row.y, row.x, res)), axis=1)"
   ]
  },
  {
   "cell_type": "code",
   "execution_count": null,
   "metadata": {},
   "outputs": [],
   "source": [
    "#remove \"0\" to avoid error\n",
    "taxi_gdf = taxi_gdf[taxi_gdf.H3_7 != \"0\"]"
   ]
  },
  {
   "cell_type": "code",
   "execution_count": null,
   "metadata": {},
   "outputs": [],
   "source": [
    "#https://medium.com/@jesse.b.nestler/how-to-convert-h3-cell-boundaries-to-shapely-polygons-in-python-f7558add2f63\n",
    "\n",
    "#group \"traj_id\" by h3 cell and get count\n",
    "h3_df = taxi_gdf.groupby([col])['traj_id'].count().reset_index() #add \"hour\" to .groupby to have counts per hour \n",
    "h3_df = h3_df.rename(columns={\"traj_id\":\"traj_id_count\"})\n",
    "h3_df"
   ]
  },
  {
   "cell_type": "code",
   "execution_count": null,
   "metadata": {},
   "outputs": [],
   "source": [
    "#https://medium.com/@jesse.b.nestler/how-to-convert-h3-cell-boundaries-to-shapely-polygons-in-python-f7558add2f63\n",
    "\n",
    "#create polygons to visualize in QGIS\n",
    "def cell_to_shapely(cell):\n",
    "    coords = h3.h3_to_geo_boundary(cell)\n",
    "    flipped = tuple(coord[::-1] for coord in coords)\n",
    "    return Polygon(flipped)\n",
    "\n",
    "h3_geoms = h3_df[col].apply(lambda x: cell_to_shapely(x))\n",
    "h3_gdf = gpd.GeoDataFrame(data=h3_df, geometry=h3_geoms, crs=4326)"
   ]
  },
  {
   "cell_type": "code",
   "execution_count": null,
   "metadata": {},
   "outputs": [],
   "source": [
    "h3_gdf.to_file(r\"../examples/data/taxi_h3.gpkg\", driver=\"GPKG\", layer=\"traj_id\")"
   ]
  },
  {
   "cell_type": "code",
   "execution_count": null,
   "metadata": {},
   "outputs": [],
   "source": [
    "#test h3 cell for \"traj_id\" count\n",
    "df_cell = taxi_gdf[taxi_gdf[\"H3_7\"] == \"87392201dffffff\"]"
   ]
  },
  {
   "cell_type": "code",
   "execution_count": null,
   "metadata": {},
   "outputs": [],
   "source": [
    "#\"traj_id\" count in cell\n",
    "len(df_cell)"
   ]
  },
  {
   "cell_type": "code",
   "execution_count": null,
   "metadata": {},
   "outputs": [],
   "source": [
    "#(sub)trajectories in cell\n",
    "traj_collection = mpd.TrajectoryCollection(df_cell, \"traj_id\", t=\"timestamp\", x=\"x\", y=\"y\")\n",
    "print(traj_collection)"
   ]
  },
  {
   "cell_type": "code",
   "execution_count": null,
   "metadata": {},
   "outputs": [],
   "source": [
    "#view (sub)trajectories in cell in QGIS\n",
    "traj_gdf = traj_collection.to_traj_gdf()\n",
    "traj_gdf.to_file(r\"../examples/data/traj_gdf.gpkg\", driver=\"GPKG\", layer=\"traj_id\")"
   ]
  },
  {
   "cell_type": "markdown",
   "metadata": {},
   "source": [
    "#### Approach 2: data for 1 day"
   ]
  },
  {
   "cell_type": "code",
   "execution_count": null,
   "metadata": {},
   "outputs": [],
   "source": [
    "taxis_all = pd.read_csv(r\"../examples/data/train.csv\")"
   ]
  },
  {
   "cell_type": "code",
   "execution_count": null,
   "metadata": {},
   "outputs": [],
   "source": [
    "taxis_all[\"date\"] = pd.to_datetime(taxis_all[\"TIMESTAMP\"], utc=True, unit='s', origin='unix')\n",
    "taxis_all.head(2)"
   ]
  },
  {
   "cell_type": "code",
   "execution_count": null,
   "metadata": {},
   "outputs": [],
   "source": [
    "taxis_all[\"year\"] = taxis_all[\"date\"].dt.year\n",
    "taxis_all[\"month\"] = taxis_all[\"date\"].dt.month\n",
    "taxis_all[\"day\"] = taxis_all[\"date\"].dt.day\n",
    "taxis_all[\"hour\"] = taxis_all[\"date\"].dt.hour\n",
    "taxis_all[\"minute\"] = taxis_all[\"date\"].dt.minute\n",
    "taxis_all[\"second\"] = taxis_all[\"date\"].dt.second"
   ]
  },
  {
   "cell_type": "code",
   "execution_count": null,
   "metadata": {},
   "outputs": [],
   "source": [
    "#create df for 01.07.2013\n",
    "t_2013_7_1 = taxis_all[(taxis_all[\"day\"] == 1) & (taxis_all[\"month\"] == 7) & (taxis_all[\"year\"] == 2013)]\n",
    "t_2013_7_1.head(2)"
   ]
  },
  {
   "cell_type": "code",
   "execution_count": null,
   "metadata": {},
   "outputs": [],
   "source": [
    "t_2013_7_1 = t_2013_7_1.rename(columns={\"TRIP_ID\":\"traj_id\"})"
   ]
  },
  {
   "cell_type": "code",
   "execution_count": null,
   "metadata": {},
   "outputs": [],
   "source": [
    "t_2013_7_1_PT = PortoTaxis(t_2013_7_1)\n",
    "t_2013_7_1_PT.df.head()"
   ]
  },
  {
   "cell_type": "code",
   "execution_count": null,
   "metadata": {},
   "outputs": [],
   "source": [
    "t_2013_7_1_PT.to_trajs()"
   ]
  },
  {
   "cell_type": "code",
   "execution_count": null,
   "metadata": {},
   "outputs": [],
   "source": [
    "t_gdf = t_2013_7_1_PT.to_gdf()\n",
    "t_gdf[\"x\"] = t_gdf.geometry.x\n",
    "t_gdf[\"y\"] = t_gdf.geometry.y\n",
    "t_gdf.head(2)"
   ]
  },
  {
   "cell_type": "code",
   "execution_count": null,
   "metadata": {},
   "outputs": [],
   "source": [
    "#https://medium.com/@jesse.b.nestler/how-to-convert-h3-cell-boundaries-to-shapely-polygons-in-python-f7558add2f63\n",
    "#x=long, y=lat\n",
    "res = 7 \n",
    "col = f\"H3_{res}\"\n",
    "t_gdf[col] = t_gdf.apply(lambda row: str(h3.geo_to_h3(row.y, row.x, res)), axis=1)"
   ]
  },
  {
   "cell_type": "code",
   "execution_count": null,
   "metadata": {},
   "outputs": [],
   "source": [
    "t_gdf = t_gdf[t_gdf.H3_7 != \"0\"]"
   ]
  },
  {
   "cell_type": "code",
   "execution_count": null,
   "metadata": {},
   "outputs": [],
   "source": [
    "#https://medium.com/@jesse.b.nestler/how-to-convert-h3-cell-boundaries-to-shapely-polygons-in-python-f7558add2f63\n",
    "h3_df = t_gdf.groupby([col])['traj_id'].count().reset_index()\n",
    "h3_df = h3_df.rename(columns={\"traj_id\":\"traj_id_count\"})\n",
    "h3_df"
   ]
  },
  {
   "cell_type": "code",
   "execution_count": null,
   "metadata": {},
   "outputs": [],
   "source": [
    "#https://medium.com/@jesse.b.nestler/how-to-convert-h3-cell-boundaries-to-shapely-polygons-in-python-f7558add2f63\n",
    "def cell_to_shapely(cell):\n",
    "    coords = h3.h3_to_geo_boundary(cell)\n",
    "    flipped = tuple(coord[::-1] for coord in coords)\n",
    "    return Polygon(flipped)\n",
    "\n",
    "h3_geoms = h3_df[col].apply(lambda x: cell_to_shapely(x))\n",
    "h3_gdf = gpd.GeoDataFrame(data=h3_df, geometry=h3_geoms, crs=4326)"
   ]
  },
  {
   "cell_type": "code",
   "execution_count": null,
   "metadata": {},
   "outputs": [],
   "source": [
    "h3_gdf.to_file(r\"../examples/data/taxi_h3_approach2.gpkg\", driver=\"GPKG\", layer=\"traj_id\")"
   ]
  },
  {
   "cell_type": "markdown",
   "metadata": {},
   "source": [
    "#### Approach 3: data for 1 day for 1 hour"
   ]
  },
  {
   "cell_type": "code",
   "execution_count": null,
   "metadata": {},
   "outputs": [],
   "source": [
    "taxi_2013_7_1_10 = taxis_all[(taxis_all[\"year\"] == 2013) & (taxis_all[\"month\"] == 7) & (taxis_all[\"day\"] == 1) & (taxis_all[\"hour\"] == 10) ]\n",
    "taxi_2013_7_1_10.head(2)"
   ]
  },
  {
   "cell_type": "code",
   "execution_count": null,
   "metadata": {},
   "outputs": [],
   "source": [
    "taxi_2013_7_1_10 = taxi_2013_7_1_10.rename(columns={\"TRIP_ID\":\"traj_id\"})"
   ]
  },
  {
   "cell_type": "code",
   "execution_count": null,
   "metadata": {},
   "outputs": [],
   "source": [
    "taxi_2013_7_1_10_PT = PortoTaxis(taxi_2013_7_1_10)\n",
    "taxi_2013_7_1_10_PT.df.head()"
   ]
  },
  {
   "cell_type": "code",
   "execution_count": null,
   "metadata": {},
   "outputs": [],
   "source": [
    "taxi_2013_7_1_10_PT.to_trajs()"
   ]
  },
  {
   "cell_type": "code",
   "execution_count": null,
   "metadata": {},
   "outputs": [],
   "source": [
    "taxi_gdf_10 = taxi_2013_7_1_10_PT.to_gdf()\n",
    "taxi_gdf_10[\"x\"] = taxi_gdf_10.geometry.x\n",
    "taxi_gdf_10[\"y\"] = taxi_gdf_10.geometry.y\n",
    "taxi_gdf_10.head(2)"
   ]
  },
  {
   "cell_type": "code",
   "execution_count": null,
   "metadata": {},
   "outputs": [],
   "source": [
    "#https://medium.com/@jesse.b.nestler/how-to-convert-h3-cell-boundaries-to-shapely-polygons-in-python-f7558add2f63\n",
    "#x=long, y=lat\n",
    "res = 7 \n",
    "col = f\"H3_{res}\"\n",
    "taxi_gdf_10[col] = taxi_gdf_10.apply(lambda row: str(h3.geo_to_h3(row.y, row.x, res)), axis=1)"
   ]
  },
  {
   "cell_type": "code",
   "execution_count": null,
   "metadata": {},
   "outputs": [],
   "source": [
    "taxi_gdf_10 = taxi_gdf_10[taxi_gdf_10.H3_7 != \"0\"]"
   ]
  },
  {
   "cell_type": "code",
   "execution_count": null,
   "metadata": {},
   "outputs": [],
   "source": [
    "#https://medium.com/@jesse.b.nestler/how-to-convert-h3-cell-boundaries-to-shapely-polygons-in-python-f7558add2f63\n",
    "h3_df = taxi_gdf_10.groupby([col])['traj_id'].count().reset_index()\n",
    "h3_df = h3_df.rename(columns={\"traj_id\":\"traj_id_count\"})\n",
    "h3_df"
   ]
  },
  {
   "cell_type": "code",
   "execution_count": null,
   "metadata": {},
   "outputs": [],
   "source": [
    "#https://medium.com/@jesse.b.nestler/how-to-convert-h3-cell-boundaries-to-shapely-polygons-in-python-f7558add2f63\n",
    "def cell_to_shapely(cell):\n",
    "    coords = h3.h3_to_geo_boundary(cell)\n",
    "    flipped = tuple(coord[::-1] for coord in coords)\n",
    "    return Polygon(flipped)\n",
    "\n",
    "h3_geoms = h3_df[col].apply(lambda x: cell_to_shapely(x))\n",
    "h3_gdf = gpd.GeoDataFrame(data=h3_df, geometry=h3_geoms, crs=4326)"
   ]
  },
  {
   "cell_type": "code",
   "execution_count": null,
   "metadata": {},
   "outputs": [],
   "source": [
    "h3_gdf.to_file(r\"../examples/data/taxi_h3_approach3.gpkg\", driver=\"GPKG\", layer=\"traj_id\")"
   ]
  }
 ],
 "metadata": {
  "kernelspec": {
   "display_name": "movingml",
   "language": "python",
   "name": "python3"
  },
  "language_info": {
   "codemirror_mode": {
    "name": "ipython",
    "version": 3
   },
   "file_extension": ".py",
   "mimetype": "text/x-python",
   "name": "python",
   "nbconvert_exporter": "python",
   "pygments_lexer": "ipython3",
   "version": "3.10.14"
  }
 },
 "nbformat": 4,
 "nbformat_minor": 2
}
