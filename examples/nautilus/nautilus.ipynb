{
 "cells": [
  {
   "cell_type": "markdown",
   "metadata": {},
   "source": [
    "# Nautilus Port\n",
    "\n",
    "Starting point: https://github.com/anitagraser/Nautilus"
   ]
  },
  {
   "cell_type": "code",
   "execution_count": 1,
   "metadata": {},
   "outputs": [
    {
     "name": "stderr",
     "output_type": "stream",
     "text": [
      "/home/grasera/anaconda3/envs/nautilus/lib/python3.10/site-packages/tqdm/auto.py:22: TqdmWarning: IProgress not found. Please update jupyter and ipywidgets. See https://ipywidgets.readthedocs.io/en/stable/user_install.html\n",
      "  from .autonotebook import tqdm as notebook_tqdm\n"
     ]
    }
   ],
   "source": [
    "import os\n",
    "import time\n",
    "\n",
    "import numpy as np\n",
    "import pandas as pd\n",
    "import geopandas as gpd\n",
    "\n",
    "from tqdm.auto import tqdm\n",
    "from torch.utils.data import DataLoader\n",
    "\n",
    "import dataset as ds\n",
    "import st_toolkit as stt\n",
    "\n"
   ]
  },
  {
   "cell_type": "markdown",
   "metadata": {},
   "source": [
    "## Preprocessing"
   ]
  },
  {
   "cell_type": "markdown",
   "metadata": {},
   "source": [
    "### Load AIS"
   ]
  },
  {
   "cell_type": "code",
   "execution_count": 2,
   "metadata": {},
   "outputs": [
    {
     "name": "stdout",
     "output_type": "stream",
     "text": [
      "[Raw Dataset] Dataset AIS Positions: 19035630\n"
     ]
    }
   ],
   "source": [
    "CFG_ROOT = r\"/mnt/c/Users/GraserA/Documents/Zenodo/Integrated Maritime\"\n",
    "VESSEL_ID_NAME, SPEED_NAME, COURSE_NAME, TIMESTAMP_NAME, TIMESTAMP_UNIT, COORDS_NAMES, COORDS_CRS = 'sourcemmsi', 'speedoverground', 'courseoverground', 't', 's', ['lon', 'lat'], 4326\n",
    "\n",
    "df = pd.read_csv(os.path.join(CFG_ROOT, 'nari_dynamic.csv')) \n",
    "print(f'[Raw Dataset] Dataset AIS Positions: {len(df)}')"
   ]
  },
  {
   "cell_type": "code",
   "execution_count": 3,
   "metadata": {},
   "outputs": [
    {
     "name": "stderr",
     "output_type": "stream",
     "text": [
      "/tmp/ipykernel_20010/2905350653.py:1: DtypeWarning: Columns (9,11) have mixed types. Specify dtype option on import or set low_memory=False.\n",
      "  df_static = pd.read_csv(os.path.join(CFG_ROOT, 'nari_static.csv'))\n"
     ]
    },
    {
     "data": {
      "text/html": [
       "<div>\n",
       "<style scoped>\n",
       "    .dataframe tbody tr th:only-of-type {\n",
       "        vertical-align: middle;\n",
       "    }\n",
       "\n",
       "    .dataframe tbody tr th {\n",
       "        vertical-align: top;\n",
       "    }\n",
       "\n",
       "    .dataframe thead th {\n",
       "        text-align: right;\n",
       "    }\n",
       "</style>\n",
       "<table border=\"1\" class=\"dataframe\">\n",
       "  <thead>\n",
       "    <tr style=\"text-align: right;\">\n",
       "      <th></th>\n",
       "      <th>sourcemmsi</th>\n",
       "      <th>shiptype</th>\n",
       "    </tr>\n",
       "  </thead>\n",
       "  <tbody>\n",
       "    <tr>\n",
       "      <th>250</th>\n",
       "      <td>636016115</td>\n",
       "      <td>82.0</td>\n",
       "    </tr>\n",
       "    <tr>\n",
       "      <th>593</th>\n",
       "      <td>636013974</td>\n",
       "      <td>70.0</td>\n",
       "    </tr>\n",
       "    <tr>\n",
       "      <th>666</th>\n",
       "      <td>211366340</td>\n",
       "      <td>52.0</td>\n",
       "    </tr>\n",
       "    <tr>\n",
       "      <th>686</th>\n",
       "      <td>567468000</td>\n",
       "      <td>70.0</td>\n",
       "    </tr>\n",
       "    <tr>\n",
       "      <th>814</th>\n",
       "      <td>376783000</td>\n",
       "      <td>70.0</td>\n",
       "    </tr>\n",
       "    <tr>\n",
       "      <th>...</th>\n",
       "      <td>...</td>\n",
       "      <td>...</td>\n",
       "    </tr>\n",
       "    <tr>\n",
       "      <th>1078486</th>\n",
       "      <td>227315190</td>\n",
       "      <td>30.0</td>\n",
       "    </tr>\n",
       "    <tr>\n",
       "      <th>882872</th>\n",
       "      <td>227142200</td>\n",
       "      <td>30.0</td>\n",
       "    </tr>\n",
       "    <tr>\n",
       "      <th>882873</th>\n",
       "      <td>234056000</td>\n",
       "      <td>0.0</td>\n",
       "    </tr>\n",
       "    <tr>\n",
       "      <th>1078487</th>\n",
       "      <td>227362110</td>\n",
       "      <td>37.0</td>\n",
       "    </tr>\n",
       "    <tr>\n",
       "      <th>882874</th>\n",
       "      <td>227008170</td>\n",
       "      <td>0.0</td>\n",
       "    </tr>\n",
       "  </tbody>\n",
       "</table>\n",
       "<p>4767 rows × 2 columns</p>\n",
       "</div>"
      ],
      "text/plain": [
       "         sourcemmsi  shiptype\n",
       "250       636016115      82.0\n",
       "593       636013974      70.0\n",
       "666       211366340      52.0\n",
       "686       567468000      70.0\n",
       "814       376783000      70.0\n",
       "...             ...       ...\n",
       "1078486   227315190      30.0\n",
       "882872    227142200      30.0\n",
       "882873    234056000       0.0\n",
       "1078487   227362110      37.0\n",
       "882874    227008170       0.0\n",
       "\n",
       "[4767 rows x 2 columns]"
      ]
     },
     "execution_count": 3,
     "metadata": {},
     "output_type": "execute_result"
    }
   ],
   "source": [
    "df_static = pd.read_csv(os.path.join(CFG_ROOT, 'nari_static.csv'))\n",
    "df_static = df_static.sort_values(\n",
    "    TIMESTAMP_NAME\n",
    ").dropna(\n",
    "    subset=['shiptype']\n",
    ").drop_duplicates(\n",
    "    subset=[VESSEL_ID_NAME], keep='last'\n",
    ")[[VESSEL_ID_NAME, 'shiptype']]\n",
    "df_static"
   ]
  },
  {
   "cell_type": "markdown",
   "metadata": {},
   "source": [
    "### Filter AIS based on MID whitelist"
   ]
  },
  {
   "cell_type": "code",
   "execution_count": 4,
   "metadata": {},
   "outputs": [
    {
     "name": "stdout",
     "output_type": "stream",
     "text": [
      "[Invalid MMSIs] Dataset AIS Positions: 18657808\n"
     ]
    }
   ],
   "source": [
    "mmsi_mid = pd.read_csv('./mmsi_mid_whitelist.csv')\n",
    "df = df.loc[\n",
    "    df[VESSEL_ID_NAME].astype(str).str.zfill(9).str[:3].isin(\n",
    "        mmsi_mid.MID.astype(str)\n",
    "    )\n",
    "].copy()\n",
    "print(f'[Invalid MMSIs] Dataset AIS Positions: {len(df)}')"
   ]
  },
  {
   "cell_type": "code",
   "execution_count": 5,
   "metadata": {},
   "outputs": [],
   "source": [
    "df.loc[:, f'timestamp_datetime'] = pd.to_datetime(df.loc[:, TIMESTAMP_NAME], unit=TIMESTAMP_UNIT)\n",
    "df.loc[:, f'timestamp_sec'] = df.timestamp_datetime.astype(int) // 10**9"
   ]
  },
  {
   "cell_type": "markdown",
   "metadata": {},
   "source": [
    "### Subsample Trajectories \\w $\\Delta t_{min}$"
   ]
  },
  {
   "cell_type": "code",
   "execution_count": 6,
   "metadata": {},
   "outputs": [],
   "source": [
    "def subsample_trajectory(traj, time_name, min_dt_sec=10):\n",
    "    # Based on: https://stackoverflow.com/a/56904899\n",
    "    sumlm = np.frompyfunc(lambda a,b: a+b if a < min_dt_sec else b, 2, 1)\n",
    "\n",
    "    traj_dt = traj[time_name].diff()\n",
    "    traj_dt_sumlm = sumlm.accumulate(traj_dt, dtype=int)\n",
    "\n",
    "    return traj.drop(traj_dt_sumlm.loc[traj_dt_sumlm < min_dt_sec].index)"
   ]
  },
  {
   "cell_type": "code",
   "execution_count": 7,
   "metadata": {},
   "outputs": [
    {
     "data": {
      "application/vnd.jupyter.widget-view+json": {
       "model_id": "852e17658ba342869a90f45209593129",
       "version_major": 2,
       "version_minor": 0
      },
      "text/plain": [
       "  0%|          | 0/5040 [00:00<?, ?it/s]"
      ]
     },
     "metadata": {},
     "output_type": "display_data"
    },
    {
     "name": "stderr",
     "output_type": "stream",
     "text": [
      "/home/grasera/anaconda3/envs/mobispaces-copy/lib/python3.10/site-packages/pandas/core/arraylike.py:396: RuntimeWarning: invalid value encountered in accumulate\n",
      "  result = getattr(ufunc, method)(*inputs, **kwargs)\n"
     ]
    },
    {
     "name": "stdout",
     "output_type": "stream",
     "text": [
      "[Subsampling] Dataset AIS Positions: 12531947\n",
      "df_clean.sort_values(\"timestamp_sec\").groupby(VESSEL_ID_NAME)[\"timestamp_sec\"].diff().describe().astype(str)=count           12526907.0\n",
      "mean     1397.994333238045\n",
      "std      76551.41621208492\n",
      "min                   10.0\n",
      "25%                   10.0\n",
      "50%                   13.0\n",
      "75%                   20.0\n",
      "max             14841285.0\n",
      "Name: timestamp_sec, dtype: object\n"
     ]
    }
   ],
   "source": [
    "tqdm.pandas()\n",
    "df_clean = df.sort_values('timestamp_sec', kind='mergesort').groupby(VESSEL_ID_NAME).progress_apply(\n",
    "    lambda l: subsample_trajectory(\n",
    "        l.copy(), 'timestamp_sec'\n",
    "    )\n",
    ").reset_index(level=0, drop=True)\n",
    "print(f'[Subsampling] Dataset AIS Positions: {len(df_clean)}')\n",
    "print(f'{df_clean.sort_values(\"timestamp_sec\").groupby(VESSEL_ID_NAME)[\"timestamp_sec\"].diff().describe().astype(str)=}')"
   ]
  },
  {
   "cell_type": "markdown",
   "metadata": {},
   "source": [
    "### Drop trajectories \\w less than $Points_{min}$ locations"
   ]
  },
  {
   "cell_type": "code",
   "execution_count": 8,
   "metadata": {},
   "outputs": [
    {
     "name": "stdout",
     "output_type": "stream",
     "text": [
      "[Trajectory Pruning] Dataset AIS Positions: 12517873\n"
     ]
    }
   ],
   "source": [
    "min_pts = 20\n",
    "vessels_points = df_clean[VESSEL_ID_NAME].value_counts() \n",
    "\n",
    "df_clean = df_clean.loc[\n",
    "    df_clean[VESSEL_ID_NAME].isin(\n",
    "        vessels_points.loc[vessels_points > min_pts].index\n",
    "    )\n",
    "].copy()\n",
    "print(f'[Trajectory Pruning] Dataset AIS Positions: {len(df_clean)}')"
   ]
  },
  {
   "cell_type": "markdown",
   "metadata": {},
   "source": [
    "### Re-calculate Speed and Course over Ground"
   ]
  },
  {
   "cell_type": "code",
   "execution_count": 9,
   "metadata": {},
   "outputs": [],
   "source": [
    "NJOBS=50\n",
    "\n",
    "df_clean = gpd.GeoDataFrame(df_clean, geometry=gpd.points_from_xy(df_clean[COORDS_NAMES[0]], df_clean[COORDS_NAMES[1]]), crs=COORDS_CRS)\n",
    "df_clean.sort_index(inplace=True)\n"
   ]
  },
  {
   "cell_type": "code",
   "execution_count": 10,
   "metadata": {},
   "outputs": [
    {
     "name": "stdout",
     "output_type": "stream",
     "text": [
      "Scaling <function add_speed.<locals>.<lambda> at 0x7f2da77285e0> to 50 CPUs\n"
     ]
    },
    {
     "name": "stderr",
     "output_type": "stream",
     "text": [
      "100%|██████████| 2177/2177 [03:12<00:00, 11.28it/s]\n"
     ]
    }
   ],
   "source": [
    "df_clean = stt.add_speed(\n",
    "    df_clean, o_id=[VESSEL_ID_NAME,], ts='timestamp_sec', speed=SPEED_NAME, geometry=df_clean.geometry.name, n_jobs=NJOBS\n",
    ")\n"
   ]
  },
  {
   "cell_type": "code",
   "execution_count": 11,
   "metadata": {},
   "outputs": [
    {
     "name": "stdout",
     "output_type": "stream",
     "text": [
      "Scaling <function add_course.<locals>.<lambda> at 0x7f2e49067e20> to 50 CPUs\n"
     ]
    },
    {
     "name": "stderr",
     "output_type": "stream",
     "text": [
      "100%|██████████| 2177/2177 [03:05<00:00, 11.75it/s]\n"
     ]
    }
   ],
   "source": [
    "df_clean = stt.add_course(\n",
    "    df_clean, o_id=[VESSEL_ID_NAME,], ts='timestamp_sec', course=COURSE_NAME, geometry=df_clean.geometry.name, n_jobs=NJOBS\n",
    ")"
   ]
  },
  {
   "cell_type": "markdown",
   "metadata": {},
   "source": [
    "### Drop Speed Outliers (points \\w speed outside the range [$Speed_{min}$, $Speed_{max}$])"
   ]
  },
  {
   "cell_type": "code",
   "execution_count": 12,
   "metadata": {},
   "outputs": [
    {
     "name": "stdout",
     "output_type": "stream",
     "text": [
      "[Speed Outliers] Dataset AIS Positions: 4599006\n",
      "df_clean[SPEED_NAME].describe().round(5).astype(str)=count    4599006.0\n",
      "mean       8.93507\n",
      "std        4.92962\n",
      "min        1.00001\n",
      "25%        5.44683\n",
      "50%        8.56766\n",
      "75%       11.43565\n",
      "max       49.98598\n",
      "Name: speedoverground, dtype: object\n",
      "Scaling <function <lambda> at 0x7f2da77284c0> to 50 CPUs\n"
     ]
    },
    {
     "name": "stderr",
     "output_type": "stream",
     "text": [
      "100%|██████████| 2158/2158 [01:33<00:00, 23.18it/s]\n"
     ]
    }
   ],
   "source": [
    "MIN_SPEED, MAX_SPEED = 1, 50\n",
    "\n",
    "df_clean.drop(\n",
    "    df_clean.loc[~df_clean[SPEED_NAME].between(MIN_SPEED, MAX_SPEED, inclusive='both')].index,\n",
    "    axis=0,\n",
    "    inplace=True\n",
    ")\n",
    "print(f'[Speed Outliers] Dataset AIS Positions: {len(df_clean)}')\n",
    "print(f'{df_clean[SPEED_NAME].describe().round(5).astype(str)=}')\n",
    "\n",
    "df_clean_coords_meters = stt.applyParallel(\n",
    "    df_clean.sort_values('timestamp_sec').groupby(VESSEL_ID_NAME),\n",
    "    lambda traj: traj.to_crs(3857)[traj.geometry.name].apply(\n",
    "        lambda point: pd.Series(stt.shapely_coords_numpy(point), index=['lon_3857', 'lat_3857'])\n",
    "    ),\n",
    "    n_jobs=NJOBS,\n",
    "    dynamic_ncols=True\n",
    ").reset_index(level=0, drop=True)\n",
    "df_clean.loc[:, ['lon_3857', 'lat_3857']] = df_clean_coords_meters\n"
   ]
  },
  {
   "cell_type": "markdown",
   "metadata": {},
   "source": [
    "### Temporal Segmentation"
   ]
  },
  {
   "cell_type": "code",
   "execution_count": 13,
   "metadata": {},
   "outputs": [
    {
     "data": {
      "application/vnd.jupyter.widget-view+json": {
       "model_id": "65d14b047bec40709f702bb8f950f991",
       "version_major": 2,
       "version_minor": 0
      },
      "text/plain": [
       "  0%|          | 0/2158 [00:00<?, ?it/s]"
      ]
     },
     "metadata": {},
     "output_type": "display_data"
    },
    {
     "name": "stdout",
     "output_type": "stream",
     "text": [
      "[Temporal Segmentation] Dataset AIS Positions: 4408217\n"
     ]
    }
   ],
   "source": [
    "CFG_EPS = 1e-9\n",
    "MAX_DT = 1800\n",
    "\n",
    "kwargs = dict(\n",
    "    col_name = 'timestamp_sec',\n",
    "    threshold = MAX_DT + CFG_EPS,\n",
    "    min_pts = min_pts,\n",
    "    output_name = 'temp_traj_nr'\n",
    ")\n",
    "\n",
    "tqdm.pandas()\n",
    "gdf_seg = df_clean.sort_values('timestamp_sec').groupby([VESSEL_ID_NAME,], group_keys=False).progress_apply(\n",
    "    lambda l: stt.temporal_segmentation(\n",
    "        l.copy(), **kwargs\n",
    "    )\n",
    ")\n",
    "print(f'[Temporal Segmentation] Dataset AIS Positions: {len(gdf_seg)}')"
   ]
  },
  {
   "cell_type": "code",
   "execution_count": 14,
   "metadata": {},
   "outputs": [
    {
     "data": {
      "text/plain": [
       "sourcemmsi  traj_nr\n",
       "235084729   12001         20\n",
       "227008170   1813          20\n",
       "250002286   12870         20\n",
       "227008170   1816          20\n",
       "224057000   308           20\n",
       "                       ...  \n",
       "228762000   11402       8669\n",
       "228109000   9650        9378\n",
       "            9661        9521\n",
       "228186700   10286       9600\n",
       "228394000   11345      13638\n",
       "Length: 14418, dtype: int64"
      ]
     },
     "execution_count": 14,
     "metadata": {},
     "output_type": "execute_result"
    }
   ],
   "source": [
    "gdf_seg.loc[:, 'traj_nr'] = gdf_seg.groupby([VESSEL_ID_NAME, 'temp_traj_nr']).ngroup()\n",
    "gdf_seg.groupby([VESSEL_ID_NAME, 'traj_nr']).apply(len).sort_values()"
   ]
  },
  {
   "cell_type": "markdown",
   "metadata": {},
   "source": [
    "### Save Results"
   ]
  },
  {
   "cell_type": "code",
   "execution_count": 15,
   "metadata": {},
   "outputs": [],
   "source": [
    "gdf_seg.drop(\n",
    "    ['geometry'], axis=1\n",
    ").rename(\n",
    "    {'timestamp_datetime':'timestamp', 'traj_nr':'id'}, axis=1\n",
    ").sort_values('timestamp_sec').to_csv(\n",
    "    os.path.join('dataset_trajectories_preprocessed.fixed.csv'),\n",
    "    index=True, \n",
    "    header=True\n",
    ")"
   ]
  },
  {
   "cell_type": "markdown",
   "metadata": {},
   "source": [
    "## Training"
   ]
  },
  {
   "cell_type": "code",
   "execution_count": 3,
   "metadata": {},
   "outputs": [
    {
     "name": "stdout",
     "output_type": "stream",
     "text": [
      "[Loaded] Dataset AIS Positions: 4408217\n",
      "[Invalid MIDs] Dataset AIS Positions: 4408217\n"
     ]
    }
   ],
   "source": [
    "mmsi_mid = pd.read_csv('./mmsi_mid_whitelist.csv')\n",
    "trajectories = pd.read_csv(f'dataset_trajectories_preprocessed.fixed.csv', parse_dates=['timestamp'])\n",
    "print(f'[Loaded] Dataset AIS Positions: {len(trajectories)}')\n",
    "VESSEL_NAME, SPEED_NAME, COURSE_NAME, TIME_NAME, TYPE_NAME = 'sourcemmsi', 'speedoverground', 'courseoverground', 't', 'shiptype'\n",
    "\n",
    "trajectories_mmsis = trajectories[VESSEL_NAME].unique()\n",
    "valid_mmsis = [mmsi for mmsi in trajectories_mmsis if mmsi//10**6 in mmsi_mid.MID.values]\n",
    "trajectories = trajectories.loc[trajectories[VESSEL_NAME].isin(valid_mmsis)].copy()\n",
    "print(f'[Invalid MIDs] Dataset AIS Positions: {len(trajectories)}')"
   ]
  },
  {
   "cell_type": "code",
   "execution_count": null,
   "metadata": {},
   "outputs": [],
   "source": [
    "trajectories = gpd.GeoDataFrame(trajectories, crs=4326, geometry=gpd.points_from_xy(trajectories['lon'], trajectories['lat']))\n"
   ]
  },
  {
   "cell_type": "markdown",
   "metadata": {},
   "source": [
    "### Temporal train/dev/test split\n",
    "\n",
    "50/25/25 (e.g., 3mos, ~1.5mos will be used for train and ~0.75mos will be used for validation and testing, respectively)"
   ]
  },
  {
   "cell_type": "code",
   "execution_count": 4,
   "metadata": {},
   "outputs": [
    {
     "name": "stdout",
     "output_type": "stream",
     "text": [
      "Train @(min(trajectories_dates[train_dates]), max(trajectories_dates[train_dates]))=(datetime.date(2015, 9, 30), datetime.date(2015, 12, 30));\n",
      "Dev @(min(trajectories_dates[dev_dates]), max(trajectories_dates[dev_dates]))=(datetime.date(2015, 12, 31), datetime.date(2016, 2, 14));\n",
      "Test @(min(trajectories_dates[test_dates]), max(trajectories_dates[test_dates]))=(datetime.date(2016, 2, 15), datetime.date(2016, 3, 31))\n"
     ]
    }
   ],
   "source": [
    "trajectories_dates = trajectories.timestamp.dt.date.sort_values().unique()\n",
    "train_dates, dev_dates, test_dates = ds.timeseries_train_test_split(trajectories_dates, dev_size=0.25, test_size=0.25, shuffle=False)\n",
    "\n",
    "print(\n",
    "    f'Train @{(min(trajectories_dates[train_dates]), max(trajectories_dates[train_dates]))=};'+\\\n",
    "    f'\\nDev @{(min(trajectories_dates[dev_dates]), max(trajectories_dates[dev_dates]))=};'+\\\n",
    "    f'\\nTest @{(min(trajectories_dates[test_dates]), max(trajectories_dates[test_dates]))=}'\n",
    ")"
   ]
  },
  {
   "cell_type": "code",
   "execution_count": 5,
   "metadata": {},
   "outputs": [
    {
     "name": "stdout",
     "output_type": "stream",
     "text": [
      "Sanity Check #1;\n",
      "\ttrajectories.groupby([VESSEL_NAME, 'id', 'dataset_tr1_val2_test3'])['timestamp'].is_monotonic_increasing.all()=True\n"
     ]
    }
   ],
   "source": [
    "CRS=2154\n",
    "\n",
    "trajectories.loc[trajectories['timestamp'].dt.date.isin(trajectories_dates[train_dates]), 'dataset_tr1_val2_test3'] = 1\n",
    "trajectories.loc[trajectories['timestamp'].dt.date.isin(trajectories_dates[dev_dates]), 'dataset_tr1_val2_test3'] = 2\n",
    "trajectories.loc[trajectories['timestamp'].dt.date.isin(trajectories_dates[test_dates]), 'dataset_tr1_val2_test3'] = 3\n",
    "\n",
    "params = dict(\n",
    "    time_name=TIME_NAME, \n",
    "    speed_name=SPEED_NAME, \n",
    "    course_name=COURSE_NAME, \n",
    "    crs=CRS, \n",
    "    min_pts=20\n",
    ")\n",
    "\n",
    "print(f\"Sanity Check #1;\\n\\t{trajectories.groupby([VESSEL_NAME, 'id', 'dataset_tr1_val2_test3'])['timestamp'].is_monotonic_increasing.all()=}\")\n"
   ]
  },
  {
   "cell_type": "markdown",
   "metadata": {},
   "source": [
    "### Create VRF training dataset"
   ]
  },
  {
   "cell_type": "code",
   "execution_count": 6,
   "metadata": {},
   "outputs": [],
   "source": [
    "def create_delta_dataset(segment, time_name, speed_name, course_name, crs=3857, min_pts=22):\n",
    "    \"\"\"\n",
    "    Create delta series\n",
    "    \"\"\"\n",
    "    if len(segment) < min_pts:\n",
    "        return None\n",
    "\n",
    "    segment.sort_values(time_name, inplace=True)\n",
    "    \n",
    "    delta_curr = segment.to_crs(crs)[segment.geometry.name].apply(lambda l: pd.Series(stt.shapely_coords_numpy(l), index=['dlon', 'dlat'])).diff()\n",
    "    delta_curr_feats = segment[[speed_name, course_name]].diff().rename({speed_name:'dspeed_curr', course_name:'dcourse_curr'}, axis=1)\n",
    "    delta_next = delta_curr.shift(-1)\n",
    "    delta_tau  = pd.merge(\n",
    "        segment[time_name].diff().rename('dt_curr'),\n",
    "        segment[time_name].diff().shift(-1).rename('dt_next'),\n",
    "        right_index=True, \n",
    "        left_index=True\n",
    "    )\n",
    "    \n",
    "    return delta_curr.join(delta_curr_feats).join(delta_tau).join(delta_next, lsuffix='_curr', rsuffix='_next').dropna(subset=['dt_curr', 'dt_next']).fillna(method='bfill')\n"
   ]
  },
  {
   "cell_type": "code",
   "execution_count": 8,
   "metadata": {},
   "outputs": [
    {
     "name": "stdout",
     "output_type": "stream",
     "text": [
      "Scaling <function <lambda> at 0x7fab2515e290> to 50 CPUs\n"
     ]
    },
    {
     "name": "stderr",
     "output_type": "stream",
     "text": [
      "100%|██████████| 14421/14421 [02:08<00:00, 111.88it/s]\n"
     ]
    }
   ],
   "source": [
    "NJOBS=50\n",
    "traj_delta = stt.applyParallel(\n",
    "    trajectories.groupby([VESSEL_NAME, 'id', 'dataset_tr1_val2_test3'], group_keys=True), \n",
    "    lambda l: create_delta_dataset(l, **params),\n",
    "    n_jobs=NJOBS\n",
    ")"
   ]
  },
  {
   "cell_type": "code",
   "execution_count": 9,
   "metadata": {},
   "outputs": [],
   "source": [
    "def traj_windowing(\n",
    "    segment, \n",
    "    length_max=1024, \n",
    "    length_min=20,\n",
    "    stride=512, \n",
    "    input_feats=['dlon_curr', 'dlat_curr', 'dt_curr', 'dt_next'], \n",
    "    output_feats=['dlon_next', 'dlat_next'], \n",
    "):\n",
    "    \"\"\"\n",
    "    Create constant-length windows for ML model training\n",
    "    \"\"\"\n",
    "    traj_inputs, traj_labels = [], []\n",
    "    \n",
    "    output_feats_idx = [segment.columns.get_loc(output_feat) for output_feat in output_feats]\n",
    "        \n",
    "    for ptr_curr in range(0, len(segment), stride):\n",
    "        segment_window = segment.iloc[ptr_curr:ptr_curr+length_max].copy()     \n",
    "\n",
    "        if len(segment_window) < length_min:\n",
    "            break\n",
    "\n",
    "        traj_inputs.append(segment_window[input_feats].values)\n",
    "        traj_labels.append(segment_window.iloc[-1, output_feats_idx].values)\n",
    "    \n",
    "    return pd.Series([traj_inputs, traj_labels], index=['samples', 'labels'])"
   ]
  },
  {
   "cell_type": "code",
   "execution_count": 10,
   "metadata": {},
   "outputs": [
    {
     "name": "stdout",
     "output_type": "stream",
     "text": [
      "windowing_params[\"input_feats\"]=['dlon_curr', 'dlat_curr', 'dspeed_curr', 'dcourse_curr', 'dt_curr', 'dt_next']\n",
      "Scaling <function <lambda> at 0x7fac2d17a3b0> to 50 CPUs\n"
     ]
    },
    {
     "name": "stderr",
     "output_type": "stream",
     "text": [
      "100%|██████████| 14421/14421 [00:23<00:00, 624.05it/s]\n"
     ]
    }
   ],
   "source": [
    "LENGTH = 32 \n",
    "STRIDE = 16\n",
    "DSPEED = True\n",
    "DCOURSE = True\n",
    "\n",
    "windowing_params = dict(\n",
    "    length_min=18, \n",
    "    length_max=LENGTH, \n",
    "    stride=STRIDE,\n",
    "    input_feats=[\n",
    "        'dlon_curr', \n",
    "        'dlat_curr', \n",
    "        *(['dspeed_curr',] if DSPEED else []),\n",
    "        *(['dcourse_curr',] if DCOURSE else []),\n",
    "        'dt_curr',\n",
    "        'dt_next'\n",
    "    ]\n",
    ")\n",
    "print(f'{windowing_params[\"input_feats\"]=}')\n",
    "\n",
    "traj_delta_windows = stt.applyParallel(\n",
    "    traj_delta.reset_index().groupby([VESSEL_NAME, 'id', 'dataset_tr1_val2_test3']),\n",
    "    lambda l: traj_windowing(l, **windowing_params),\n",
    "    n_jobs=NJOBS\n",
    ").reset_index(level=-1)\\\n",
    "    .pivot(columns=['level_3'])\\\n",
    "    .rename_axis([None, None], axis=1)\\\n",
    "    .sort_index(axis=1, ascending=False)"
   ]
  },
  {
   "cell_type": "code",
   "execution_count": 11,
   "metadata": {},
   "outputs": [],
   "source": [
    "traj_delta_windows.columns = traj_delta_windows.columns.droplevel(0)\n",
    "traj_delta_windows = traj_delta_windows.explode(['samples', 'labels'])\n",
    "\n",
    "traj_delta_windows.to_pickle(\n",
    "    f'window_{windowing_params[\"length_max\"]}_stride_{windowing_params[\"stride\"]}_crs_{CRS}_'+\\\n",
    "    f'{\"dspeed\" if DSPEED else \"\"}_'+\\\n",
    "    f'{\"dcourse\" if DCOURSE else \"\"}.traj_delta_windows.pickle'\n",
    ")"
   ]
  },
  {
   "cell_type": "markdown",
   "metadata": {},
   "source": [
    "### Split trajectories train/dev/test sets"
   ]
  },
  {
   "cell_type": "code",
   "execution_count": 13,
   "metadata": {},
   "outputs": [],
   "source": [
    "MAX_DT = 1800\n",
    "bins = np.arange(0, MAX_DT  +1, 300)\n",
    "look_discrete = pd.cut(traj_delta_windows.samples.apply(lambda l: l[-1, -1]), bins=bins).rename('labels')"
   ]
  },
  {
   "cell_type": "code",
   "execution_count": 14,
   "metadata": {},
   "outputs": [
    {
     "data": {
      "image/png": "[encoded data removed]",
      "text/plain": [
       "<Figure size 2000x700 with 3 Axes>"
      ]
     },
     "metadata": {},
     "output_type": "display_data"
    }
   ],
   "source": [
    "import matplotlib.pyplot as plt\n",
    "\n",
    "fig, ax = plt.subplots(1,3, figsize=(20, 7))\n",
    "# pdb.set_trace()\n",
    "look_discrete.xs(1, level=2).value_counts(sort=False).plot.bar(ax=ax[0], color='tab:blue')\n",
    "look_discrete.xs(2, level=2).value_counts(sort=False).plot.bar(ax=ax[1], color='tab:orange')\n",
    "look_discrete.xs(3, level=2).value_counts(sort=False).plot.bar(ax=ax[2], color='tab:green')\n",
    "\n",
    "[ax_i.set_yscale('log') for ax_i in ax];\n",
    "[ax_i.bar_label(ax_i.containers[0]) for ax_i in ax];\n",
    "plt.savefig(\n",
    "    f'window_{windowing_params[\"length_max\"]}_stride_{windowing_params[\"stride\"]}_crs_{CRS}_'+\\\n",
    "    f'{\"dspeed\" if DSPEED else \"\"}_'+\\\n",
    "    f'{\"dcourse\" if DCOURSE else \"\"}_'+\\\n",
    "    f'.pdf',\n",
    "    dpi=300, \n",
    "    bbox_inches='tight'\n",
    ")"
   ]
  },
  {
   "cell_type": "markdown",
   "metadata": {},
   "source": [
    "### Create unified train/dev/test dataset(s)"
   ]
  },
  {
   "cell_type": "code",
   "execution_count": 15,
   "metadata": {},
   "outputs": [],
   "source": [
    "train_delta_windows = traj_delta_windows.xs(1, level=2).copy()\n",
    "dev_delta_windows = traj_delta_windows.xs(2, level=2).copy()\n",
    "test_delta_windows = traj_delta_windows.xs(3, level=2).copy()"
   ]
  },
  {
   "cell_type": "markdown",
   "metadata": {},
   "source": [
    "### Create kinematic features' temporal sequence (i.e. training dataset)"
   ]
  },
  {
   "cell_type": "code",
   "execution_count": 16,
   "metadata": {},
   "outputs": [],
   "source": [
    "BS=1\n",
    "\n",
    "train_dataset = ds.VRFDataset(train_delta_windows)\n",
    "dev_dataset, test_dataset = ds.VRFDataset(dev_delta_windows, scaler=train_dataset.scaler),\\\n",
    "                            ds.VRFDataset(test_delta_windows, scaler=train_dataset.scaler)\n",
    "\n",
    "train_loader, dev_loader, test_loader = DataLoader(train_dataset, batch_size=BS, shuffle=True, collate_fn=train_dataset.pad_collate),\\\n",
    "                                        DataLoader(dev_dataset,   batch_size=BS, shuffle=False, collate_fn=dev_dataset.pad_collate),\\\n",
    "                                        DataLoader(test_dataset,  batch_size=BS, shuffle=False, collate_fn=test_dataset.pad_collate)"
   ]
  },
  {
   "cell_type": "code",
   "execution_count": 17,
   "metadata": {},
   "outputs": [],
   "source": [
    "import torch\n",
    "\n",
    "GPUID=0\n",
    "\n",
    "device = torch.device(f'cuda:{GPUID}') if torch.cuda.is_available() else torch.device('cpu')\n",
    "\n",
    "model_params = dict({},\n",
    "    input_size=len(windowing_params['input_feats']),\n",
    "    scale=dict(\n",
    "        sigma=torch.Tensor(train_dataset.scaler.scale_[:2]), \n",
    "        mu=torch.Tensor(train_dataset.scaler.mean_[:2])\n",
    "    ),\n",
    "    bidirectional=True,\n",
    "    num_layers=1,\n",
    "    hidden_size=350,\n",
    "    fc_layers=[150,]\n",
    ")"
   ]
  },
  {
   "cell_type": "code",
   "execution_count": 18,
   "metadata": {},
   "outputs": [
    {
     "name": "stdout",
     "output_type": "stream",
     "text": [
      "VesselRouteForecasting(\n",
      "  (rnn_cell): LSTM(6, 350, batch_first=True, bidirectional=True)\n",
      "  (fc): Sequential(\n",
      "    (0): Sequential(\n",
      "      (0): Linear(in_features=700, out_features=150, bias=True)\n",
      "      (1): ReLU()\n",
      "    )\n",
      "    (1): Linear(in_features=150, out_features=2, bias=True)\n",
      "  )\n",
      ")\n",
      "device=device(type='cuda', index=0)\n",
      "self.eps=0.0001\n"
     ]
    }
   ],
   "source": [
    "import models as ml \n",
    "import train as tr \n",
    "\n",
    "model = ml.VesselRouteForecasting(**model_params)\n",
    "model.to(device)\n",
    "\n",
    "print(model)\n",
    "print(f'{device=}')\n",
    "\n",
    "criterion = tr.RMSELoss(eps=1e-4)\n",
    "optimizer = torch.optim.Adam(model.parameters(), lr=1e-4)"
   ]
  },
  {
   "cell_type": "code",
   "execution_count": 21,
   "metadata": {},
   "outputs": [
    {
     "name": "stdout",
     "output_type": "stream",
     "text": [
      "nautilus.epoch0.pth\n"
     ]
    }
   ],
   "source": [
    "model_name_base =   f'nautilus.epoch{0}.pth'\n",
    "save_path_epoch = model_name_base\n",
    "save_path_best = model_name_base.format('best')\n",
    "print(save_path_epoch)  "
   ]
  },
  {
   "cell_type": "code",
   "execution_count": 22,
   "metadata": {},
   "outputs": [
    {
     "name": "stderr",
     "output_type": "stream",
     "text": [
      "                                                                               \r"
     ]
    },
    {
     "name": "stdout",
     "output_type": "stream",
     "text": [
      "Loss Decreased (inf -> 17.76585). Saving Model... Done!\n",
      "Epoch #1/3 | Train Loss: 20.38124 | Validation Loss: 17.76585 | Time Elapsed: 1927.09809\n"
     ]
    },
    {
     "name": "stderr",
     "output_type": "stream",
     "text": [
      "                                                                                    \r"
     ]
    },
    {
     "name": "stdout",
     "output_type": "stream",
     "text": [
      "Loss: 17.76585 |  Accuracy: 25.12469 | 15.07267; 461.91650; 942.52179; 1553.51599; 2402.90112; 2781.72656 m\n"
     ]
    },
    {
     "name": "stderr",
     "output_type": "stream",
     "text": [
      "                                                                                \r"
     ]
    },
    {
     "name": "stdout",
     "output_type": "stream",
     "text": [
      "Loss Decreased (17.76585 -> 14.99800). Saving Model... Done!\n",
      "Epoch #2/3 | Train Loss: 18.44233 | Validation Loss: 14.99800 | Time Elapsed: 1937.82269\n"
     ]
    },
    {
     "name": "stderr",
     "output_type": "stream",
     "text": [
      "                                                                                \r"
     ]
    },
    {
     "name": "stdout",
     "output_type": "stream",
     "text": [
      "Loss Decreased (14.99800 -> 14.80614). Saving Model... Done!\n",
      "Epoch #3/3 | Train Loss: 17.26741 | Validation Loss: 14.80614 | Time Elapsed: 1919.02956\n"
     ]
    },
    {
     "data": {
      "text/plain": [
       "([array(20.381235, dtype=float32),\n",
       "  array(18.442326, dtype=float32),\n",
       "  array(17.267412, dtype=float32)],\n",
       " [array(17.76585, dtype=float32),\n",
       "  array(14.998001, dtype=float32),\n",
       "  array(14.806138, dtype=float32)])"
      ]
     },
     "execution_count": 22,
     "metadata": {},
     "output_type": "execute_result"
    }
   ],
   "source": [
    "PATIENCE = 2  # original: 10 may be why the best model was not saved since we're only doing 3 training rounds in this demo\n",
    "\n",
    "evaluate_fun_params = dict(\n",
    "    bins=np.arange(0, MAX_DT+1, 300)\n",
    ")\n",
    "\n",
    "early_stop_params = dict(\n",
    "    patience=PATIENCE,\n",
    "    save_best=True,\n",
    "    path=save_path_best\n",
    ")\n",
    "\n",
    "save_current_params = dict(\n",
    "    path=save_path_epoch\n",
    ")\n",
    "\n",
    "tr.train_model(\n",
    "    model, device, criterion, optimizer, 3, # originally: 100 rounds\n",
    "    train_loader, dev_loader, early_stop=True, save_current=True, \n",
    "    evaluate_fun=tr.vrf_evaluate_model_singlehead, evaluate_fun_params=evaluate_fun_params,\n",
    "    early_stop_params=early_stop_params, save_current_params=save_current_params\n",
    ")"
   ]
  },
  {
   "cell_type": "markdown",
   "metadata": {},
   "source": [
    "## Load best model and test its accuracy on the test set"
   ]
  },
  {
   "cell_type": "code",
   "execution_count": 23,
   "metadata": {},
   "outputs": [
    {
     "name": "stderr",
     "output_type": "stream",
     "text": [
      "                                                                                     \r"
     ]
    },
    {
     "name": "stdout",
     "output_type": "stream",
     "text": [
      "Loss: 14.71818 |  Accuracy: 20.81462 | 13.61749; 349.00308; 668.95441; 948.02118; 1284.83435; 1549.65906 m\n"
     ]
    },
    {
     "data": {
      "text/plain": [
       "(tensor(14.7182), 20.81462)"
      ]
     },
     "execution_count": 23,
     "metadata": {},
     "output_type": "execute_result"
    }
   ],
   "source": [
    "checkpoint = torch.load(save_path_best)\n",
    "\n",
    "model.load_state_dict(checkpoint['model_state_dict'])\n",
    "optimizer.load_state_dict(checkpoint['optimizer_state_dict'])\n",
    "\n",
    "tr.vrf_evaluate_model_singlehead(model, device, criterion, test_loader, desc='ADE @ Test Set...', **evaluate_fun_params)"
   ]
  },
  {
   "cell_type": "code",
   "execution_count": null,
   "metadata": {},
   "outputs": [],
   "source": []
  }
 ],
 "metadata": {
  "kernelspec": {
   "display_name": "mobispaces-copy",
   "language": "python",
   "name": "python3"
  },
  "language_info": {
   "codemirror_mode": {
    "name": "ipython",
    "version": 3
   },
   "file_extension": ".py",
   "mimetype": "text/x-python",
   "name": "python",
   "nbconvert_exporter": "python",
   "pygments_lexer": "ipython3",
   "version": "3.10.8"
  }
 },
 "nbformat": 4,
 "nbformat_minor": 2
}
