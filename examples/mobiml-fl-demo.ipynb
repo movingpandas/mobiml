{
 "cells": [
  {
   "cell_type": "markdown",
   "metadata": {},
   "source": [
    "# MobiML FL demo\n",
    "\n",
    "Using Flower and MobiML"
   ]
  },
  {
   "cell_type": "code",
   "execution_count": null,
   "metadata": {},
   "outputs": [],
   "source": [
    "import os\n",
    "import sys\n",
    "import pickle\n",
    "import pandas as pd\n",
    "import geopandas as gpd\n",
    "import numpy as np\n",
    "from datetime import datetime, timedelta\n",
    "from copy import deepcopy\n",
    "from typing import Dict, List, Tuple\n",
    "from pathlib import Path\n",
    "from sklearn.metrics import log_loss\n",
    "from sklearn.preprocessing import MultiLabelBinarizer\n",
    "\n",
    "import flwr as fl\n",
    "from flwr.common import Metrics\n",
    "\n",
    "import sys\n",
    "sys.path.append(\"..\")\n",
    "from mobiml.datasets import AISDK, MOVER_ID, SHIPTYPE\n",
    "from mobiml.transforms import TripExtractor, TrajectoryAggregator\n",
    "from mobiml.preprocessing import StationaryClientExtractor\n",
    "from mobiml.models import SummarizedAISTrajectoryClassifier\n",
    "from mobiml.models.ais_trajectory_classifier import AISLoader, get_evaluate_fn, fit_round, weighted_average\n",
    "from mobiml.utils import convert_wgs_to_utm"
   ]
  },
  {
   "cell_type": "markdown",
   "metadata": {},
   "source": [
    "## Extract stationary client (antenna) data"
   ]
  },
  {
   "cell_type": "code",
   "execution_count": null,
   "metadata": {},
   "outputs": [],
   "source": [
    "path = \"./data/aisdk-2018-02.zip\"\n",
    "antennas = ['Point (11.96524 57.70730)', 'Point (11.63979 57.71941)', 'Point (11.78460 57.57255)']\n",
    "antenna_radius_meters = 25000"
   ]
  },
  {
   "cell_type": "code",
   "execution_count": null,
   "metadata": {},
   "outputs": [],
   "source": [
    "epsg_code = convert_wgs_to_utm(11.96524, 57.70730)\n",
    "\n",
    "ids =  [{'client': i} for i in range(len(antennas))]\n",
    "df = pd.DataFrame(ids)\n",
    "df['geometry'] = gpd.GeoSeries.from_wkt(antennas)\n",
    "gdf = gpd.GeoDataFrame(df, geometry=df.geometry, crs=4326)\n",
    "gdf = gdf.to_crs(epsg_code)\n",
    "gdf['geometry'] = gdf.buffer(antenna_radius_meters)\n",
    "\n",
    "buffered_antennas =  gdf.to_crs(4326)\n",
    "min_lon, min_lat, max_lon, max_lat = buffered_antennas.geometry.total_bounds"
   ]
  },
  {
   "cell_type": "code",
   "execution_count": null,
   "metadata": {},
   "outputs": [],
   "source": [
    "out_dir = \"temp\"\n",
    "if not os.path.exists(out_dir):\n",
    "    print(f\"{datetime.now()} Creating output directory {out_dir} ...\")\n",
    "    os.makedirs(out_dir)"
   ]
  },
  {
   "cell_type": "code",
   "execution_count": null,
   "metadata": {},
   "outputs": [],
   "source": [
    "print(f\"{datetime.now()} Loading data from {path}\")\n",
    "aisdk = AISDK(path, min_lon, min_lat, max_lon, max_lat)"
   ]
  },
  {
   "cell_type": "code",
   "execution_count": null,
   "metadata": {},
   "outputs": [],
   "source": [
    "print(f\"{datetime.now()} Extracting client data ...\")\n",
    "client_data = StationaryClientExtractor(aisdk).extract(buffered_antennas)"
   ]
  },
  {
   "cell_type": "code",
   "execution_count": null,
   "metadata": {},
   "outputs": [],
   "source": [
    "client_feather_path = \"temp/ais-antenna.feather\"\n",
    "print(f\"{datetime.now()} Writing output to {client_feather_path}\")\n",
    "client_data.to_feather(client_feather_path)"
   ]
  },
  {
   "cell_type": "markdown",
   "metadata": {},
   "source": [
    "## Prepare training data"
   ]
  },
  {
   "cell_type": "code",
   "execution_count": null,
   "metadata": {},
   "outputs": [],
   "source": [
    "h3_resolution = 8"
   ]
  },
  {
   "cell_type": "code",
   "execution_count": null,
   "metadata": {},
   "outputs": [],
   "source": [
    "print(f\"{datetime.now()} Loading data from {client_feather_path} ...\")\n",
    "gdf = gpd.read_feather(client_feather_path)\n",
    "vessels = gdf.groupby(MOVER_ID)[[\"ship_type\", \"Name\"]].agg(pd.Series.mode)"
   ]
  },
  {
   "cell_type": "code",
   "execution_count": null,
   "metadata": {},
   "outputs": [],
   "source": [
    "print(f\"{datetime.now()} Extracting trips ...\")\n",
    "trajs = TripExtractor(gdf).get_trips(\n",
    "    gap_duration=timedelta(minutes=60)\n",
    ")  "
   ]
  },
  {
   "cell_type": "code",
   "execution_count": null,
   "metadata": {},
   "outputs": [],
   "source": [
    "print(f\"{datetime.now()} Computing trajectory features ...\")\n",
    "trajs = TrajectoryAggregator(trajs, vessels).aggregate_trajs(h3_resolution)"
   ]
  },
  {
   "cell_type": "code",
   "execution_count": null,
   "metadata": {},
   "outputs": [],
   "source": [
    "with open(\"temp/vessels-stationary.pickle\", \"wb\") as out_file:\n",
    "    pickle.dump(vessels, out_file)"
   ]
  },
  {
   "cell_type": "code",
   "execution_count": null,
   "metadata": {},
   "outputs": [],
   "source": [
    "with open(\"temp/training-data-stationary.pickle\", \"wb\") as out_file:\n",
    "    pickle.dump(trajs, out_file)"
   ]
  },
  {
   "cell_type": "markdown",
   "metadata": {},
   "source": [
    "## Start Flower server for federated learning"
   ]
  },
  {
   "cell_type": "markdown",
   "metadata": {},
   "source": [
    "https://github.com/adap/flower/blob/main/examples/flower-in-30-minutes/tutorial.ipynb"
   ]
  },
  {
   "cell_type": "code",
   "execution_count": null,
   "metadata": {},
   "outputs": [],
   "source": [
    "np.random.seed(0)\n",
    "\n",
    "data_path = \"temp/training-data-stationary.pickle\"\n",
    "scenario_name = Path(data_path).stem.replace(\"training-data-\", \"\")\n",
    "\n",
    "vessel_types = ['Cargo', 'Passenger', 'Tanker']\n",
    "traj_features = ['speed_max', 'speed_median', 'x_start', 'y_start', 'x_end', 'y_end', 'length']  # ['SOG_max', 'SOG_median', 'LON_start', 'LAT_start', 'LON_end', 'LAT_end', 'length']  'H3_seq'\n",
    "n_features = 7  # 1804  # depends on the number of H3 cells in H3_seq\n",
    "test_size = 0.33\n",
    "\n",
    "data_loader = AISLoader(vessel_types, traj_features, test_size, path=data_path)\n",
    "\n",
    "model = SummarizedAISTrajectoryClassifier(vessel_types, n_features)\n",
    "\n",
    "strategy = fl.server.strategy.FedAvg(\n",
    "    min_available_clients=2,\n",
    "    evaluate_fn=get_evaluate_fn(model, data_loader, scenario_name),\n",
    "    on_fit_config_fn=fit_round,\n",
    "    evaluate_metrics_aggregation_fn=weighted_average,\n",
    "    fit_metrics_aggregation_fn=weighted_average,\n",
    ")\n",
    "\n",
    "fl.server.start_server(\n",
    "    server_address=\"0.0.0.0:8080\",\n",
    "    strategy=strategy,\n",
    "    config=fl.server.ServerConfig(num_rounds=10),\n",
    ")\n"
   ]
  },
  {
   "cell_type": "code",
   "execution_count": null,
   "metadata": {},
   "outputs": [],
   "source": [
    "1+2"
   ]
  },
  {
   "cell_type": "code",
   "execution_count": null,
   "metadata": {},
   "outputs": [],
   "source": []
  }
 ],
 "metadata": {
  "kernelspec": {
   "display_name": "mobiml",
   "language": "python",
   "name": "python3"
  },
  "language_info": {
   "codemirror_mode": {
    "name": "ipython",
    "version": 3
   },
   "file_extension": ".py",
   "mimetype": "text/x-python",
   "name": "python",
   "nbconvert_exporter": "python",
   "pygments_lexer": "ipython3",
   "version": "3.10.14"
  }
 },
 "nbformat": 4,
 "nbformat_minor": 2
}
