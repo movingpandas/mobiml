{
 "cells": [
  {
   "attachments": {},
   "cell_type": "markdown",
   "metadata": {},
   "source": [
    "# MobiML Transformers Demo"
   ]
  },
  {
   "cell_type": "code",
   "execution_count": null,
   "metadata": {
    "slideshow": {
     "slide_type": "slide"
    }
   },
   "outputs": [],
   "source": [
    "import os\n",
    "import pandas as pd\n",
    "import geopandas as gpd\n",
    "import pickle\n",
    "import holoviews as hv\n",
    "from hvplot import pandas\n",
    "from holoviews import opts\n",
    "from holoviews.element import tiles\n",
    "from datetime import datetime, timedelta\n",
    "\n",
    "import sys\n",
    "sys.path.append(\"..\")\n",
    "\n",
    "from mobiml.datasets import AISDK, PreprocessedAISDK\n",
    "from mobiml.transformers import StationaryClientExtractor, TrajectoryAggregator, AISTripExtractor\n",
    "from mobiml.loaders import AISLoader\n",
    "\n",
    "opts.defaults(opts.Overlay(active_tools=['wheel_zoom']))\n",
    "BG_TILES = tiles.CartoLight()\n"
   ]
  },
  {
   "attachments": {},
   "cell_type": "markdown",
   "metadata": {},
   "source": [
    "## Extracting AIS records around specific locations\n"
   ]
  },
  {
   "cell_type": "code",
   "execution_count": null,
   "metadata": {},
   "outputs": [],
   "source": [
    "antennas = ['Point (11.96524 57.70730)', 'Point (11.63979 57.71941)', 'Point (11.78460 57.57255)']\n",
    "antenna_radius_meters = 25000 \n",
    "\n",
    "def create_client_gdf(clients, client_radius_meters) -> gpd.GeoDataFrame:\n",
    "    ids =  [{'client': i} for i in range(len(clients))]\n",
    "    df = pd.DataFrame(ids)\n",
    "    df['geometry'] = gpd.GeoSeries.from_wkt(clients)\n",
    "    gdf = gpd.GeoDataFrame(df, geometry=df.geometry, crs=4326)\n",
    "    gdf = gdf.to_crs(3857)\n",
    "    gdf['geometry'] = gdf.buffer(client_radius_meters)\n",
    "    return gdf.to_crs(4326)\n",
    "\n",
    "buffered_antennas = create_client_gdf(antennas, antenna_radius_meters)\n",
    "buffered_antennas.hvplot(tiles=BG_TILES, geo=True, alpha=0.5)"
   ]
  },
  {
   "cell_type": "code",
   "execution_count": null,
   "metadata": {},
   "outputs": [],
   "source": [
    "min_lon, min_lat, max_lon, max_lat = buffered_antennas.geometry.total_bounds\n",
    "aisdk = AISDK('./data/aisdk_20180208_sample.zip', min_lon, min_lat, max_lon, max_lat)\n",
    "aisdk.datashade(width=700, height=400)"
   ]
  },
  {
   "cell_type": "code",
   "execution_count": null,
   "metadata": {},
   "outputs": [],
   "source": [
    "print(f\"{datetime.now()} Extracting client data ...\")\n",
    "client_gdf = StationaryClientExtractor(aisdk, buffered_antennas) "
   ]
  },
  {
   "cell_type": "code",
   "execution_count": null,
   "metadata": {},
   "outputs": [],
   "source": [
    "out_path = './data/ais-extracted-stationary.feather'\n",
    "print(f\"{datetime.now()} Writing output to {out_path}\")\n",
    "client_gdf.to_feather(out_path)"
   ]
  },
  {
   "cell_type": "markdown",
   "metadata": {},
   "source": [
    "## Reading extracted AIS records from file"
   ]
  },
  {
   "cell_type": "code",
   "execution_count": null,
   "metadata": {},
   "outputs": [],
   "source": [
    "aisdk = PreprocessedAISDK(out_path)"
   ]
  },
  {
   "cell_type": "code",
   "execution_count": null,
   "metadata": {},
   "outputs": [],
   "source": [
    "trajs = aisdk.to_trajs()\n",
    "trajs"
   ]
  },
  {
   "cell_type": "code",
   "execution_count": null,
   "metadata": {},
   "outputs": [],
   "source": [
    "aisdk.datashade(width=700, height=400)"
   ]
  },
  {
   "cell_type": "code",
   "execution_count": null,
   "metadata": {},
   "outputs": [],
   "source": [
    "def plot_type(my_type):\n",
    "    tmp = aisdk.copy()\n",
    "    tmp.df = tmp.df[tmp.df.ship_type==my_type]\n",
    "    return tmp.datashade(title=my_type, width=400, height=400)\n",
    "\n",
    "plot_type(\"Cargo\") + plot_type(\"Passenger\") + plot_type(\"Tanker\")"
   ]
  },
  {
   "cell_type": "markdown",
   "metadata": {},
   "source": [
    "## Splitting trajectory dataset into train and test"
   ]
  },
  {
   "cell_type": "code",
   "execution_count": null,
   "metadata": {},
   "outputs": [],
   "source": [
    "from mobiml.datasets._dataset import MOVER_ID\n",
    "\n",
    "h3_resolution = 8\n",
    "\n",
    "def create_vessel_list(gdf):\n",
    "    print(f\"{datetime.now()} Creating vessel list ...\")\n",
    "    return gdf.groupby(MOVER_ID)[['ship_type','Name']].agg(pd.Series.mode)\n",
    "\n",
    "\n",
    "def pickle_vessels(vessels, out_path):\n",
    "    print(f\"{datetime.now()} Writing vessels to {out_path} ...\")\n",
    "    with open(out_path, 'wb') as out_file:\n",
    "        pickle.dump(vessels, out_file)\n",
    "\n",
    "\n",
    "def pickle_trajectories(trajs, out_path):\n",
    "    print(f\"{datetime.now()} Writing trajectories to {out_path} ...\")\n",
    "    with open(out_path, 'wb') as out_file:\n",
    "        pickle.dump(trajs, out_file)\n",
    "    return out_path"
   ]
  },
  {
   "cell_type": "code",
   "execution_count": null,
   "metadata": {},
   "outputs": [],
   "source": [
    "print(f\"{datetime.now()} Loading data from {out_path} ...\")\n",
    "gdf =  gpd.read_feather(out_path)\n",
    "vessels = create_vessel_list(gdf)"
   ]
  },
  {
   "cell_type": "code",
   "execution_count": null,
   "metadata": {},
   "outputs": [],
   "source": [
    "print(f\"{datetime.now()} Extracting trips ...\")\n",
    "trajs = AISTripExtractor(gdf).get_trips(stop_duration=timedelta(minutes=60))  # create_trajs(gdf)"
   ]
  },
  {
   "cell_type": "code",
   "execution_count": null,
   "metadata": {},
   "outputs": [],
   "source": [
    "print(f\"{datetime.now()} Computing trajectory features ...\")\n",
    "trajs = TrajectoryAggregator(trajs, vessels).aggregate_trajs(h3_resolution)   \n"
   ]
  },
  {
   "cell_type": "code",
   "execution_count": null,
   "metadata": {},
   "outputs": [],
   "source": [
    "traj_path = 'data/ais-extracted-trajectories.pickle' \n",
    "pickle_trajectories(trajs, traj_path)\n",
    "pickle_vessels(vessels, 'data/ais-extracted-vessels.pickle')"
   ]
  },
  {
   "cell_type": "code",
   "execution_count": null,
   "metadata": {},
   "outputs": [],
   "source": [
    "stationary = AISLoader( ['Cargo', 'Passenger', 'Tanker'], \n",
    "                ['speed_max', 'speed_median', 'x_start', 'y_start', 'x_end', 'y_end', 'length'], \n",
    "                0.33, \n",
    "                path=traj_path)\n",
    "(X_train, y_train), (X_test, y_test) = stationary.load(1)\n",
    "print(X_train.shape)\n",
    "print(X_test.shape)"
   ]
  },
  {
   "cell_type": "code",
   "execution_count": null,
   "metadata": {},
   "outputs": [],
   "source": []
  }
 ],
 "metadata": {
  "kernelspec": {
   "display_name": "mobiml",
   "language": "python",
   "name": "python3"
  },
  "language_info": {
   "codemirror_mode": {
    "name": "ipython",
    "version": 3
   },
   "file_extension": ".py",
   "mimetype": "text/x-python",
   "name": "python",
   "nbconvert_exporter": "python",
   "pygments_lexer": "ipython3",
   "version": "3.10.9"
  },
  "orig_nbformat": 4
 },
 "nbformat": 4,
 "nbformat_minor": 2
}
