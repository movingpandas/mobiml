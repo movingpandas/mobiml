{
 "cells": [
  {
   "attachments": {},
   "cell_type": "markdown",
   "metadata": {},
   "source": [
    "# mobiml Demo"
   ]
  },
  {
   "cell_type": "code",
   "execution_count": null,
   "metadata": {
    "slideshow": {
     "slide_type": "slide"
    }
   },
   "outputs": [],
   "source": [
    "import mobiml\n",
    "from mobiml.datasets import PreprocessedAISDK, BrestAIS, PortoTaxis\n",
    "import holoviews as hv\n",
    "from hvplot import pandas\n",
    "\n",
    "from holoviews import opts\n",
    "opts.defaults(opts.Overlay(active_tools=['wheel_zoom']))\n",
    "\n",
    "from holoviews.element import tiles\n",
    "BG_TILES = tiles.CartoLight()\n",
    "\n",
    "from bokeh.io import output_notebook\n",
    "output_notebook()\n"
   ]
  },
  {
   "attachments": {},
   "cell_type": "markdown",
   "metadata": {},
   "source": [
    "## AISDK"
   ]
  },
  {
   "cell_type": "code",
   "execution_count": null,
   "metadata": {},
   "outputs": [],
   "source": [
    "aisdk = PreprocessedAISDK('../data/ais-extracted-stationary/ais-antenna.feather')\n"
   ]
  },
  {
   "cell_type": "code",
   "execution_count": null,
   "metadata": {},
   "outputs": [],
   "source": [
    "trajs = aisdk.to_trajs()\n",
    "trajs"
   ]
  },
  {
   "cell_type": "code",
   "execution_count": null,
   "metadata": {},
   "outputs": [],
   "source": [
    "aisdk.datashade(width=700, height=400)"
   ]
  },
  {
   "cell_type": "code",
   "execution_count": null,
   "metadata": {},
   "outputs": [],
   "source": [
    "def plot_type(my_type):\n",
    "    tmp = aisdk.copy()\n",
    "    tmp.df = tmp.df[tmp.df.ship_type==my_type]\n",
    "    return tmp.datashade(title=my_type, width=400, height=400)\n",
    "\n",
    "plot_type(\"Cargo\") + plot_type(\"Passenger\") + plot_type(\"Tanker\")"
   ]
  },
  {
   "attachments": {},
   "cell_type": "markdown",
   "metadata": {},
   "source": [
    "### Mobile"
   ]
  },
  {
   "cell_type": "code",
   "execution_count": null,
   "metadata": {},
   "outputs": [],
   "source": [
    "aisdk2 = PreprocessedAISDK('../data/ais-extracted-mobile/ais-vessels.feather')"
   ]
  },
  {
   "cell_type": "code",
   "execution_count": null,
   "metadata": {},
   "outputs": [],
   "source": [
    "aisdk2.datashade(width=700, height=400)"
   ]
  },
  {
   "cell_type": "code",
   "execution_count": null,
   "metadata": {},
   "outputs": [],
   "source": [
    "aisdk2.to_trajs()"
   ]
  },
  {
   "cell_type": "code",
   "execution_count": null,
   "metadata": {},
   "outputs": [],
   "source": [
    "gdf = aisdk2.to_gdf()\n",
    "gdf"
   ]
  },
  {
   "cell_type": "code",
   "execution_count": null,
   "metadata": {},
   "outputs": [],
   "source": [
    "gdf[gdf.client==219012959].hvplot(geo=True, tiles=\"CartoLight\", c='traj_id')"
   ]
  },
  {
   "attachments": {},
   "cell_type": "markdown",
   "metadata": {
    "slideshow": {
     "slide_type": "slide"
    }
   },
   "source": [
    "## Porto Taxi FCD"
   ]
  },
  {
   "cell_type": "code",
   "execution_count": null,
   "metadata": {},
   "outputs": [],
   "source": [
    "taxis = PortoTaxis(\"/mnt/c/Users/GraserA/Documents/Kaggle/PortoTaxi/train.csv\", nrows=10000) # r\"H:\\Geodata\\Kaggle\\PortoTaxis\\train.csv\", nrows=10000)\n",
    "taxis.df.head()"
   ]
  },
  {
   "cell_type": "code",
   "execution_count": null,
   "metadata": {},
   "outputs": [],
   "source": [
    "taxis.datashade(width=900, height=500)"
   ]
  },
  {
   "attachments": {},
   "cell_type": "markdown",
   "metadata": {
    "slideshow": {
     "slide_type": "slide"
    }
   },
   "source": [
    "## Brest Vessels AIS"
   ]
  },
  {
   "cell_type": "code",
   "execution_count": null,
   "metadata": {},
   "outputs": [],
   "source": [
    "ais = BrestAIS(r\"/mnt/c/Users/GraserA/Documents/Zenodo/Integrated Maritime/nari_dynamic.csv\")\n",
    "ais.df.head()"
   ]
  },
  {
   "cell_type": "code",
   "execution_count": null,
   "metadata": {},
   "outputs": [],
   "source": [
    "ais.datashade(width=900, height=500)"
   ]
  },
  {
   "cell_type": "code",
   "execution_count": null,
   "metadata": {},
   "outputs": [],
   "source": [
    "ais.df = ais.df[ais.df.mover_id.isin([245257000])]\n",
    "ais.df"
   ]
  },
  {
   "cell_type": "code",
   "execution_count": null,
   "metadata": {},
   "outputs": [],
   "source": [
    "ex = mobiml.AISTripExtractor(ais)\n",
    "ais_trips = ex.get_trips()"
   ]
  },
  {
   "cell_type": "code",
   "execution_count": null,
   "metadata": {},
   "outputs": [],
   "source": [
    "ais_trips.hvplot(title=\"Brest Vessels AIS\", width=900, height=500, tiles=\"CartoLight\")"
   ]
  },
  {
   "attachments": {},
   "cell_type": "markdown",
   "metadata": {},
   "source": [
    "#  data/prepared/trajs-mobile.pickle "
   ]
  },
  {
   "cell_type": "code",
   "execution_count": null,
   "metadata": {},
   "outputs": [],
   "source": [
    "import pandas as pd"
   ]
  },
  {
   "cell_type": "code",
   "execution_count": null,
   "metadata": {},
   "outputs": [],
   "source": [
    "mobile = pd.read_pickle(\"../data/prepared/trajs-mobile.pickle\")\n",
    "mobile.client.unique()"
   ]
  },
  {
   "cell_type": "code",
   "execution_count": null,
   "metadata": {},
   "outputs": [],
   "source": [
    "from mobiml.loaders import AISLoader\n",
    "ais = AISLoader( ['Cargo', 'Passenger', 'Tanker'], \n",
    "                ['speed_max', 'speed_median', 'x_start', 'y_start', 'x_end', 'y_end', 'length'], \n",
    "                0.33, \n",
    "                path=\"../data/prepared/trajs-mobile.pickle\")"
   ]
  },
  {
   "cell_type": "code",
   "execution_count": null,
   "metadata": {},
   "outputs": [],
   "source": [
    "(X_train, y_train), (X_test, y_test) = ais.load(219012959)"
   ]
  },
  {
   "cell_type": "code",
   "execution_count": null,
   "metadata": {},
   "outputs": [],
   "source": [
    "y_test"
   ]
  },
  {
   "cell_type": "code",
   "execution_count": null,
   "metadata": {},
   "outputs": [],
   "source": [
    "X_test"
   ]
  },
  {
   "cell_type": "code",
   "execution_count": null,
   "metadata": {},
   "outputs": [],
   "source": [
    "X_test.shape"
   ]
  },
  {
   "cell_type": "code",
   "execution_count": null,
   "metadata": {},
   "outputs": [],
   "source": [
    "X_train.shape"
   ]
  },
  {
   "cell_type": "code",
   "execution_count": null,
   "metadata": {},
   "outputs": [],
   "source": [
    "stationary = AISLoader( ['Cargo', 'Passenger', 'Tanker'], \n",
    "                ['speed_max', 'speed_median', 'x_start', 'y_start', 'x_end', 'y_end', 'length'], \n",
    "                0.33, \n",
    "                path=\"../data/prepared/training-data-stationary.pickle\")\n",
    "(X_train, y_train), (X_test, y_test) = stationary.load(1)\n",
    "print(X_train.shape)\n",
    "print(X_test.shape)"
   ]
  },
  {
   "cell_type": "code",
   "execution_count": null,
   "metadata": {},
   "outputs": [],
   "source": [
    "ais = AISLoader( ['Cargo', 'Passenger', 'Tanker'], \n",
    "                ['speed_max', 'speed_median', 'x_start', 'y_start', 'x_end', 'y_end', 'length'], \n",
    "                0.33, \n",
    "                path=\"../data/prepared/training-data-mobile.pickle\")\n",
    "(X_train, y_train), (X_test, y_test) = ais.load(219012959)\n",
    "print(X_train.shape)\n",
    "print(X_test.shape)"
   ]
  },
  {
   "cell_type": "code",
   "execution_count": null,
   "metadata": {},
   "outputs": [],
   "source": []
  },
  {
   "cell_type": "code",
   "execution_count": null,
   "metadata": {},
   "outputs": [],
   "source": []
  }
 ],
 "metadata": {
  "kernelspec": {
   "display_name": "mobiml",
   "language": "python",
   "name": "python3"
  },
  "language_info": {
   "codemirror_mode": {
    "name": "ipython",
    "version": 3
   },
   "file_extension": ".py",
   "mimetype": "text/x-python",
   "name": "python",
   "nbconvert_exporter": "python",
   "pygments_lexer": "ipython3",
   "version": "3.10.9"
  },
  "orig_nbformat": 4
 },
 "nbformat": 4,
 "nbformat_minor": 2
}
